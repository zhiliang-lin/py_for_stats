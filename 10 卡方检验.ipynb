{
 "cells": [
  {
   "cell_type": "code",
   "execution_count": 1,
   "id": "0bf15119-7a45-48e1-bcf0-02867fe1011a",
   "metadata": {},
   "outputs": [],
   "source": [
    "# 整理数据的库\n",
    "import pandas as pd\n",
    "# 数据分析的库\n",
    "import numpy as np\n",
    "from scipy import stats\n",
    "from scipy.stats import chi2_contingency #卡方检验\n",
    "from scipy.stats import chi2 #画卡方分布图\n",
    "# 画图\n",
    "import seaborn as sns\n",
    "import matplotlib.pyplot as plt"
   ]
  },
  {
   "cell_type": "markdown",
   "id": "b05a6534",
   "metadata": {},
   "source": [
    "卡方检验统计量：$$\\chi ^ { 2 } = \\sum \\frac { ( f _ { o } - f _ { e } ) ^ { 2 } } { f _ { e } }$$\n",
    "其中，\t $f _ { o }$  = 观察频数； $f _ { e }$  = 期望频数\n"
   ]
  },
  {
   "cell_type": "markdown",
   "id": "f726e1d1",
   "metadata": {},
   "source": [
    "卡方检验的自由度为df = (R-1)(C-1)，R和C分别是两个分类型变量的类别量\n"
   ]
  },
  {
   "cell_type": "markdown",
   "id": "05ece249",
   "metadata": {},
   "source": [
    "# 卡方分布图"
   ]
  },
  {
   "cell_type": "code",
   "execution_count": 5,
   "id": "dd26fbe7",
   "metadata": {},
   "outputs": [
    {
     "data": {
      "text/plain": [
       "[<matplotlib.lines.Line2D at 0x1d7a1be1ba0>]"
      ]
     },
     "execution_count": 5,
     "metadata": {},
     "output_type": "execute_result"
    },
    {
     "data": {
      "image/png": "[encoded data removed]",
      "text/plain": [
       "<Figure size 640x480 with 1 Axes>"
      ]
     },
     "metadata": {},
     "output_type": "display_data"
    }
   ],
   "source": [
    "x = np.linspace(0,5,100)\n",
    "y_1 = stats.chi2.pdf(x,df = 1)\n",
    "y_2 = stats.chi2.pdf(x,df = 3)\n",
    "y_3 = stats.chi2.pdf(x,df = 10)\n",
    "plt.plot(x,y_1,color = 'red')\n",
    "plt.plot(x,y_2,color ='green')\n",
    "plt.plot(x,y_3,color ='blue')"
   ]
  },
  {
   "cell_type": "markdown",
   "id": "790cee36",
   "metadata": {},
   "source": [
    "# 性别与电脑类型偏好"
   ]
  },
  {
   "cell_type": "code",
   "execution_count": 6,
   "id": "2d6f7fbe",
   "metadata": {},
   "outputs": [],
   "source": [
    "gender = [\"female\"]*120 + [\"male\"]*180 \n",
    "pc_type = [\"mac\"]*12 + [\"windows\"]*108 + [\"mac\"]*24 + [\"windows\"]*156"
   ]
  },
  {
   "cell_type": "code",
   "execution_count": 7,
   "id": "a1eef486",
   "metadata": {},
   "outputs": [],
   "source": [
    "df = pd.DataFrame(\n",
    "    {\n",
    "        \"gender\":gender,\n",
    "        \"pc_type\":pc_type\n",
    "    }\n",
    ")"
   ]
  },
  {
   "cell_type": "code",
   "execution_count": 8,
   "id": "f9ac591a",
   "metadata": {},
   "outputs": [],
   "source": [
    "# df.to_excel(\"d:/download/data.xlsx\")"
   ]
  },
  {
   "cell_type": "markdown",
   "id": "498a886a",
   "metadata": {},
   "source": [
    "## 列联表（交叉表）"
   ]
  },
  {
   "cell_type": "code",
   "execution_count": 17,
   "id": "f2e1fcd2",
   "metadata": {},
   "outputs": [
    {
     "data": {
      "text/html": [
       "<div>\n",
       "<style scoped>\n",
       "    .dataframe tbody tr th:only-of-type {\n",
       "        vertical-align: middle;\n",
       "    }\n",
       "\n",
       "    .dataframe tbody tr th {\n",
       "        vertical-align: top;\n",
       "    }\n",
       "\n",
       "    .dataframe thead th {\n",
       "        text-align: right;\n",
       "    }\n",
       "</style>\n",
       "<table border=\"1\" class=\"dataframe\">\n",
       "  <thead>\n",
       "    <tr style=\"text-align: right;\">\n",
       "      <th>pc_type</th>\n",
       "      <th>mac</th>\n",
       "      <th>windows</th>\n",
       "    </tr>\n",
       "    <tr>\n",
       "      <th>gender</th>\n",
       "      <th></th>\n",
       "      <th></th>\n",
       "    </tr>\n",
       "  </thead>\n",
       "  <tbody>\n",
       "    <tr>\n",
       "      <th>female</th>\n",
       "      <td>12</td>\n",
       "      <td>108</td>\n",
       "    </tr>\n",
       "    <tr>\n",
       "      <th>male</th>\n",
       "      <td>24</td>\n",
       "      <td>156</td>\n",
       "    </tr>\n",
       "  </tbody>\n",
       "</table>\n",
       "</div>"
      ],
      "text/plain": [
       "pc_type  mac  windows\n",
       "gender               \n",
       "female    12      108\n",
       "male      24      156"
      ]
     },
     "execution_count": 17,
     "metadata": {},
     "output_type": "execute_result"
    }
   ],
   "source": [
    "crosstab =pd.crosstab(df.gender,df.pc_type)\n",
    "crosstab"
   ]
  },
  {
   "cell_type": "code",
   "execution_count": 19,
   "id": "d5ec4e82",
   "metadata": {},
   "outputs": [],
   "source": [
    "# 卡方检验结果（检验统计量卡方值，p值,自由度，期望频数）\n",
    "stat, p, dof, expected = chi2_contingency(crosstab) "
   ]
  },
  {
   "cell_type": "code",
   "execution_count": 20,
   "id": "81eb4cb7",
   "metadata": {},
   "outputs": [
    {
     "name": "stdout",
     "output_type": "stream",
     "text": [
      "chiq = 0.4748000841750843\n"
     ]
    }
   ],
   "source": [
    "# 卡方值\n",
    "print(\"chiq = \" + str(stat))"
   ]
  },
  {
   "cell_type": "code",
   "execution_count": 21,
   "id": "9978a6fa",
   "metadata": {},
   "outputs": [
    {
     "name": "stdout",
     "output_type": "stream",
     "text": [
      "p = 0.4907871540801906\n"
     ]
    }
   ],
   "source": [
    "# p值\n",
    "print(\"p = \" + str(p))"
   ]
  },
  {
   "cell_type": "code",
   "execution_count": 22,
   "id": "3ecd87c8",
   "metadata": {},
   "outputs": [
    {
     "data": {
      "text/plain": [
       "array([[ 14.4, 105.6],\n",
       "       [ 21.6, 158.4]])"
      ]
     },
     "execution_count": 22,
     "metadata": {},
     "output_type": "execute_result"
    }
   ],
   "source": [
    "# 期望频数\n",
    "expected"
   ]
  },
  {
   "cell_type": "code",
   "execution_count": 23,
   "id": "e687f6cf",
   "metadata": {},
   "outputs": [
    {
     "data": {
      "text/plain": [
       "3.841458820694124"
      ]
     },
     "execution_count": 23,
     "metadata": {},
     "output_type": "execute_result"
    }
   ],
   "source": [
    "# 临界值（α =0.05）\n",
    "limit = stats.chi2.ppf(q=0.95,df =dof)\n",
    "limit"
   ]
  },
  {
   "cell_type": "code",
   "execution_count": 49,
   "id": "563ca2cc",
   "metadata": {},
   "outputs": [
    {
     "data": {
      "text/plain": [
       "<matplotlib.lines.Line2D at 0x1305e5a8be0>"
      ]
     },
     "execution_count": 49,
     "metadata": {},
     "output_type": "execute_result"
    },
    {
     "data": {
      "image/png": "[encoded data removed]",
      "text/plain": [
       "<Figure size 432x288 with 1 Axes>"
      ]
     },
     "metadata": {
      "needs_background": "light"
     },
     "output_type": "display_data"
    }
   ],
   "source": [
    "# 示意图\n",
    "x = np.linspace(0,5,1000)\n",
    "y = stats.chi2.pdf(x,df =dof)\n",
    "plt.plot(x,y)\n",
    "plt.fill_between(x,0,y,where= x > limit,color = 'red') #拒绝域\n",
    "plt.axvline(x=stat,color = 'green')#检验统计量"
   ]
  },
  {
   "attachments": {},
   "cell_type": "markdown",
   "id": "d0bb70f7",
   "metadata": {},
   "source": [
    "**结论**：性别与电脑类型使用无显著关联（$\\chi^2=0.47, p=0.49 > 0.05$）"
   ]
  },
  {
   "cell_type": "markdown",
   "id": "365606f2",
   "metadata": {},
   "source": [
    "# 泰坦尼克号的例子"
   ]
  },
  {
   "cell_type": "code",
   "execution_count": 9,
   "id": "8b9a6d03",
   "metadata": {},
   "outputs": [],
   "source": [
    "gender = [\"female\"]*470 + [\"male\"]*1738\n",
    "life_status = [\"survival\"]*344 + [\"death\"]*(470-344) + [\"survival\"]*374 + [\"death\"]*(1738-374)\n",
    "df_titanic = pd.DataFrame({\n",
    "    \"gender\": gender,\n",
    "    \"life_status\": life_status,\n",
    "})"
   ]
  },
  {
   "cell_type": "code",
   "execution_count": 10,
   "id": "bf140619",
   "metadata": {},
   "outputs": [],
   "source": [
    "# df_titanic.to_excel(\"d:/download/df_titanic.xlsx\")"
   ]
  },
  {
   "cell_type": "code",
   "execution_count": 4,
   "id": "91e53c8d",
   "metadata": {},
   "outputs": [
    {
     "data": {
      "text/html": [
       "<div>\n",
       "<style scoped>\n",
       "    .dataframe tbody tr th:only-of-type {\n",
       "        vertical-align: middle;\n",
       "    }\n",
       "\n",
       "    .dataframe tbody tr th {\n",
       "        vertical-align: top;\n",
       "    }\n",
       "\n",
       "    .dataframe thead th {\n",
       "        text-align: right;\n",
       "    }\n",
       "</style>\n",
       "<table border=\"1\" class=\"dataframe\">\n",
       "  <thead>\n",
       "    <tr style=\"text-align: right;\">\n",
       "      <th>life_status</th>\n",
       "      <th>death</th>\n",
       "      <th>survival</th>\n",
       "    </tr>\n",
       "    <tr>\n",
       "      <th>gender</th>\n",
       "      <th></th>\n",
       "      <th></th>\n",
       "    </tr>\n",
       "  </thead>\n",
       "  <tbody>\n",
       "    <tr>\n",
       "      <th>female</th>\n",
       "      <td>126</td>\n",
       "      <td>344</td>\n",
       "    </tr>\n",
       "    <tr>\n",
       "      <th>male</th>\n",
       "      <td>1364</td>\n",
       "      <td>374</td>\n",
       "    </tr>\n",
       "  </tbody>\n",
       "</table>\n",
       "</div>"
      ],
      "text/plain": [
       "life_status  death  survival\n",
       "gender                      \n",
       "female         126       344\n",
       "male          1364       374"
      ]
     },
     "execution_count": 4,
     "metadata": {},
     "output_type": "execute_result"
    }
   ],
   "source": [
    "crosstab_titanic =pd.crosstab(df_titanic.gender,df_titanic.life_status)\n",
    "crosstab_titanic"
   ]
  },
  {
   "cell_type": "code",
   "execution_count": 6,
   "id": "d9d2cde7",
   "metadata": {},
   "outputs": [],
   "source": [
    "# 卡方检验结果（检验统计量卡方值，p值,自由度，期望频数）\n",
    "stat, p, dof, expected = chi2_contingency(crosstab_titanic) "
   ]
  },
  {
   "cell_type": "code",
   "execution_count": 7,
   "id": "6b9d137c",
   "metadata": {},
   "outputs": [
    {
     "data": {
      "text/plain": [
       "447.7959483713239"
      ]
     },
     "execution_count": 7,
     "metadata": {},
     "output_type": "execute_result"
    }
   ],
   "source": [
    "stat"
   ]
  },
  {
   "cell_type": "code",
   "execution_count": 10,
   "id": "5c55735a",
   "metadata": {},
   "outputs": [
    {
     "data": {
      "text/plain": [
       "2.1766108525434843e-99"
      ]
     },
     "execution_count": 10,
     "metadata": {},
     "output_type": "execute_result"
    }
   ],
   "source": [
    "p"
   ]
  },
  {
   "cell_type": "code",
   "execution_count": 11,
   "id": "b1b61461",
   "metadata": {},
   "outputs": [
    {
     "data": {
      "text/plain": [
       "array([[ 317.16485507,  152.83514493],\n",
       "       [1172.83514493,  565.16485507]])"
      ]
     },
     "execution_count": 11,
     "metadata": {},
     "output_type": "execute_result"
    }
   ],
   "source": [
    "expected"
   ]
  },
  {
   "attachments": {},
   "cell_type": "markdown",
   "id": "a83b922b",
   "metadata": {},
   "source": [
    "**结论**：性别与生存状况有显著关联（$\\chi^2=447, p<0.05$）"
   ]
  }
 ],
 "metadata": {
  "kernelspec": {
   "display_name": "base",
   "language": "python",
   "name": "python3"
  },
  "language_info": {
   "codemirror_mode": {
    "name": "ipython",
    "version": 3
   },
   "file_extension": ".py",
   "mimetype": "text/x-python",
   "name": "python",
   "nbconvert_exporter": "python",
   "pygments_lexer": "ipython3",
   "version": "3.10.9"
  }
 },
 "nbformat": 4,
 "nbformat_minor": 5
}
