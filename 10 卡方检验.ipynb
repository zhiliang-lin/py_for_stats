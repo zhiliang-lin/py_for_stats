{
 "cells": [
  {
   "cell_type": "code",
   "execution_count": 5,
   "id": "0bf15119-7a45-48e1-bcf0-02867fe1011a",
   "metadata": {},
   "outputs": [],
   "source": [
    "# 整理数据的库\n",
    "import numpy as np\n",
    "import pandas as pd\n",
    "# 数据可视化的库\n",
    "import matplotlib as mpl\n",
    "import matplotlib.pyplot as plt\n",
    "import seaborn as sns\n",
    "\n",
    "plt.rcParams['font.sans-serif'] = ['SimHei']  # 中文字体设置-黑体\n",
    "plt.rcParams['axes.unicode_minus'] = False  # 解决保存图像是负号'-'显示为方块的问题\n",
    "sns.set(font='SimHei')  # 解决Seaborn中文显示问题\n",
    "# 数据分析的库\n",
    "from scipy import stats\n",
    "import scipy.stats as stats\n",
    "import statsmodels.formula.api as smf # 回归分析\n",
    "from scipy.stats import chi2_contingency #卡方检验\n",
    "import pingouin as pg\n",
    "# 其它\n",
    "import warnings\n",
    "warnings.filterwarnings('ignore') #忽视警告# 整理数据的库"
   ]
  },
  {
   "cell_type": "markdown",
   "id": "790cee36",
   "metadata": {},
   "source": [
    "# 性别与电脑类型偏好"
   ]
  },
  {
   "cell_type": "code",
   "execution_count": 9,
   "id": "2d6f7fbe",
   "metadata": {},
   "outputs": [],
   "source": [
    "gender = [\"female\"]*120 + [\"male\"]*180 \n",
    "pc_type = [\"mac\"]*12 + [\"windows\"]*108 + [\"mac\"]*24 + [\"windows\"]*156"
   ]
  },
  {
   "cell_type": "code",
   "execution_count": 10,
   "id": "a1eef486",
   "metadata": {},
   "outputs": [],
   "source": [
    "df = pd.DataFrame(\n",
    "    {\n",
    "        \"gender\":gender,\n",
    "        \"pc_type\":pc_type\n",
    "    }\n",
    ")"
   ]
  },
  {
   "cell_type": "markdown",
   "id": "498a886a",
   "metadata": {},
   "source": [
    "## 列联表（交叉表）"
   ]
  },
  {
   "cell_type": "code",
   "execution_count": 11,
   "id": "f2e1fcd2",
   "metadata": {},
   "outputs": [
    {
     "data": {
      "text/html": [
       "<div>\n",
       "<style scoped>\n",
       "    .dataframe tbody tr th:only-of-type {\n",
       "        vertical-align: middle;\n",
       "    }\n",
       "\n",
       "    .dataframe tbody tr th {\n",
       "        vertical-align: top;\n",
       "    }\n",
       "\n",
       "    .dataframe thead th {\n",
       "        text-align: right;\n",
       "    }\n",
       "</style>\n",
       "<table border=\"1\" class=\"dataframe\">\n",
       "  <thead>\n",
       "    <tr style=\"text-align: right;\">\n",
       "      <th>pc_type</th>\n",
       "      <th>mac</th>\n",
       "      <th>windows</th>\n",
       "    </tr>\n",
       "    <tr>\n",
       "      <th>gender</th>\n",
       "      <th></th>\n",
       "      <th></th>\n",
       "    </tr>\n",
       "  </thead>\n",
       "  <tbody>\n",
       "    <tr>\n",
       "      <th>female</th>\n",
       "      <td>12</td>\n",
       "      <td>108</td>\n",
       "    </tr>\n",
       "    <tr>\n",
       "      <th>male</th>\n",
       "      <td>24</td>\n",
       "      <td>156</td>\n",
       "    </tr>\n",
       "  </tbody>\n",
       "</table>\n",
       "</div>"
      ],
      "text/plain": [
       "pc_type  mac  windows\n",
       "gender               \n",
       "female    12      108\n",
       "male      24      156"
      ]
     },
     "execution_count": 11,
     "metadata": {},
     "output_type": "execute_result"
    }
   ],
   "source": [
    "crosstab =pd.crosstab(df.gender,df.pc_type)\n",
    "crosstab"
   ]
  },
  {
   "cell_type": "code",
   "execution_count": 12,
   "id": "d5ec4e82",
   "metadata": {},
   "outputs": [],
   "source": [
    "# 卡方检验结果（检验统计量卡方值，p值,自由度，期望频数）\n",
    "stat, p, dof, expected = chi2_contingency(crosstab) "
   ]
  },
  {
   "cell_type": "code",
   "execution_count": 14,
   "id": "81eb4cb7",
   "metadata": {},
   "outputs": [
    {
     "name": "stdout",
     "output_type": "stream",
     "text": [
      "chiq = 0.4748000841750843\n"
     ]
    }
   ],
   "source": [
    "# 卡方值\n",
    "print(\"chiq = \" + str(stat))"
   ]
  },
  {
   "cell_type": "code",
   "execution_count": 13,
   "id": "9978a6fa",
   "metadata": {},
   "outputs": [
    {
     "name": "stdout",
     "output_type": "stream",
     "text": [
      "p = 0.4907871540801906\n"
     ]
    }
   ],
   "source": [
    "# p值\n",
    "print(\"p = \" + str(p))"
   ]
  },
  {
   "cell_type": "code",
   "execution_count": 15,
   "id": "3ecd87c8",
   "metadata": {},
   "outputs": [
    {
     "data": {
      "text/plain": [
       "array([[ 14.4, 105.6],\n",
       "       [ 21.6, 158.4]])"
      ]
     },
     "execution_count": 15,
     "metadata": {},
     "output_type": "execute_result"
    }
   ],
   "source": [
    "expected"
   ]
  },
  {
   "cell_type": "markdown",
   "id": "b4412366",
   "metadata": {},
   "source": [
    "# "
   ]
  }
 ],
 "metadata": {
  "kernelspec": {
   "display_name": "Python 3.9.7 ('base')",
   "language": "python",
   "name": "python3"
  },
  "language_info": {
   "codemirror_mode": {
    "name": "ipython",
    "version": 3
   },
   "file_extension": ".py",
   "mimetype": "text/x-python",
   "name": "python",
   "nbconvert_exporter": "python",
   "pygments_lexer": "ipython3",
   "version": "3.9.7"
  },
  "vscode": {
   "interpreter": {
    "hash": "393afc36cfb9449b98f4f044686da15eb8facededbe8675c5ddfde78742b5c22"
   }
  }
 },
 "nbformat": 4,
 "nbformat_minor": 5
}
