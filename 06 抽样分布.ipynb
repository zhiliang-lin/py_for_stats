{
 "cells": [
  {
   "cell_type": "code",
   "execution_count": 8,
   "id": "241b7f3b-401e-43e0-bb3e-c14c52b10b47",
   "metadata": {},
   "outputs": [],
   "source": [
    "import numpy as np\n",
    "import seaborn as sns\n",
    "import itertools\n"
   ]
  },
  {
   "cell_type": "markdown",
   "id": "9ae9e941-c266-48da-957a-2afe989e9292",
   "metadata": {},
   "source": [
    "# 抽样分布的例子"
   ]
  },
  {
   "cell_type": "code",
   "execution_count": null,
   "id": "0408e89d-dd4c-4a33-bbe1-117ff0375fae",
   "metadata": {},
   "outputs": [],
   "source": [
    "population =[18,20,22,24]"
   ]
  },
  {
   "cell_type": "code",
   "execution_count": 5,
   "id": "ee4bf1ad-e22c-4960-aacc-01f45567855a",
   "metadata": {},
   "outputs": [
    {
     "data": {
      "text/plain": [
       "21.0"
      ]
     },
     "execution_count": 5,
     "metadata": {},
     "output_type": "execute_result"
    }
   ],
   "source": [
    "pop_mean = np.mean(population)\n",
    "pop_mean"
   ]
  },
  {
   "cell_type": "code",
   "execution_count": 6,
   "id": "c9176a6a-b0f5-47e3-8541-ca7e414c53fa",
   "metadata": {},
   "outputs": [
    {
     "data": {
      "text/plain": [
       "2.23606797749979"
      ]
     },
     "execution_count": 6,
     "metadata": {},
     "output_type": "execute_result"
    }
   ],
   "source": [
    "pop_std = np.std(population)#总体均值\n",
    "pop_std"
   ]
  },
  {
   "cell_type": "code",
   "execution_count": 52,
   "id": "bfc9e0c2-edb9-41ac-9085-473bb7c29471",
   "metadata": {},
   "outputs": [
    {
     "data": {
      "text/plain": [
       "<AxesSubplot:ylabel='Count'>"
      ]
     },
     "execution_count": 52,
     "metadata": {},
     "output_type": "execute_result"
    },
    {
     "data": {
      "image/png": "[encoded data removed]",
      "text/plain": [
       "<Figure size 432x288 with 1 Axes>"
      ]
     },
     "metadata": {
      "needs_background": "light"
     },
     "output_type": "display_data"
    }
   ],
   "source": [
    "#总体分布图\n",
    "sns.histplot(population,bins=4)"
   ]
  },
  {
   "cell_type": "markdown",
   "id": "363ac151-19d6-445f-8fe0-31777ac6caa3",
   "metadata": {},
   "source": [
    "## 样本均值的抽样分布（n=2）"
   ]
  },
  {
   "cell_type": "code",
   "execution_count": 3,
   "id": "c0f95802-1665-4d90-8c44-265b6116d6f3",
   "metadata": {},
   "outputs": [
    {
     "data": {
      "text/plain": [
       "[(18, 18),\n",
       " (18, 20),\n",
       " (18, 22),\n",
       " (18, 24),\n",
       " (20, 18),\n",
       " (20, 20),\n",
       " (20, 22),\n",
       " (20, 24),\n",
       " (22, 18),\n",
       " (22, 20),\n",
       " (22, 22),\n",
       " (22, 24),\n",
       " (24, 18),\n",
       " (24, 20),\n",
       " (24, 22),\n",
       " (24, 24)]"
      ]
     },
     "execution_count": 3,
     "metadata": {},
     "output_type": "execute_result"
    }
   ],
   "source": [
    "samples = list(itertools.product(population,repeat = 2))\n",
    "samples"
   ]
  },
  {
   "cell_type": "code",
   "execution_count": 41,
   "id": "b8c134bd-2e7c-4181-97f7-2e1d7972578b",
   "metadata": {},
   "outputs": [
    {
     "data": {
      "text/plain": [
       "[18.0,\n",
       " 19.0,\n",
       " 20.0,\n",
       " 21.0,\n",
       " 19.0,\n",
       " 20.0,\n",
       " 21.0,\n",
       " 22.0,\n",
       " 20.0,\n",
       " 21.0,\n",
       " 22.0,\n",
       " 23.0,\n",
       " 21.0,\n",
       " 22.0,\n",
       " 23.0,\n",
       " 24.0]"
      ]
     },
     "execution_count": 41,
     "metadata": {},
     "output_type": "execute_result"
    }
   ],
   "source": [
    "# 样本均值\n",
    "sample_means = []\n",
    "for i,j in samples:\n",
    "    sample_means.append( np.mean((i,j)) )\n",
    "sample_means"
   ]
  },
  {
   "cell_type": "code",
   "execution_count": 44,
   "id": "1514967d-5774-4d68-b071-2a6c92c3620e",
   "metadata": {},
   "outputs": [
    {
     "data": {
      "text/plain": [
       "21.0"
      ]
     },
     "execution_count": 44,
     "metadata": {},
     "output_type": "execute_result"
    }
   ],
   "source": [
    "# 抽样分布的平均值\n",
    "mean_sampling_distribution = np.mean(sample_means)\n",
    "mean_sampling_distribution"
   ]
  },
  {
   "cell_type": "code",
   "execution_count": 46,
   "id": "9b88d924-d71b-4272-8ec1-f4ef005b788c",
   "metadata": {},
   "outputs": [
    {
     "data": {
      "text/plain": [
       "1.5811388300841898"
      ]
     },
     "execution_count": 46,
     "metadata": {},
     "output_type": "execute_result"
    }
   ],
   "source": [
    "# 抽样分布的标准误\n",
    "std_sampling_distribution = np.std(sample_means)\n",
    "std_sampling_distribution"
   ]
  },
  {
   "cell_type": "code",
   "execution_count": 50,
   "id": "62c4ece9-9956-4470-b155-72dfc849f3b8",
   "metadata": {},
   "outputs": [
    {
     "data": {
      "text/plain": [
       "<AxesSubplot:ylabel='Count'>"
      ]
     },
     "execution_count": 50,
     "metadata": {},
     "output_type": "execute_result"
    },
    {
     "data": {
      "image/png": "[encoded data removed]",
      "text/plain": [
       "<Figure size 432x288 with 1 Axes>"
      ]
     },
     "metadata": {
      "needs_background": "light"
     },
     "output_type": "display_data"
    }
   ],
   "source": [
    "# 抽样分布的分布图\n",
    "sns.histplot(sample_means,bins =7)"
   ]
  },
  {
   "cell_type": "markdown",
   "id": "3691d2de-5c04-4ced-bd5f-a50c712015d4",
   "metadata": {},
   "source": [
    "# 总体不服从正态分布"
   ]
  },
  {
   "cell_type": "code",
   "execution_count": 4,
   "id": "c6f631d5-d354-4c03-8185-15723d073e1c",
   "metadata": {},
   "outputs": [],
   "source": [
    "popul_1 = list(range(1,40))"
   ]
  },
  {
   "cell_type": "code",
   "execution_count": 5,
   "id": "1bf13f30-786b-4ed5-bdfa-fce2a7f453bc",
   "metadata": {},
   "outputs": [
    {
     "data": {
      "text/plain": [
       "50.0"
      ]
     },
     "execution_count": 5,
     "metadata": {},
     "output_type": "execute_result"
    }
   ],
   "source": [
    "# 总体平均值\n",
    "popul_1_mean = np.mean(popul_1)\n",
    "popul_1_mean"
   ]
  },
  {
   "cell_type": "code",
   "execution_count": 6,
   "id": "ff065a19-08e0-4733-83d4-f5100961e575",
   "metadata": {},
   "outputs": [
    {
     "data": {
      "text/plain": [
       "28.577380332470412"
      ]
     },
     "execution_count": 6,
     "metadata": {},
     "output_type": "execute_result"
    }
   ],
   "source": [
    "# 总体标准差\n",
    "popul_1_std = np.std(popul_1)\n",
    "popul_1_std"
   ]
  },
  {
   "cell_type": "code",
   "execution_count": 7,
   "id": "3ba1faa1-d3f5-4eaa-9b59-24cd2e9eb116",
   "metadata": {},
   "outputs": [
    {
     "data": {
      "text/plain": [
       "<AxesSubplot:ylabel='Count'>"
      ]
     },
     "execution_count": 7,
     "metadata": {},
     "output_type": "execute_result"
    },
    {
     "data": {
      "image/png": "[encoded data removed]",
      "text/plain": [
       "<Figure size 432x288 with 1 Axes>"
      ]
     },
     "metadata": {
      "needs_background": "light"
     },
     "output_type": "display_data"
    }
   ],
   "source": [
    "# 总体分布图\n",
    "sns.histplot(popul_1)"
   ]
  },
  {
   "cell_type": "code",
   "execution_count": 5,
   "id": "fab28466-4607-454f-8b39-86db8decc6b5",
   "metadata": {},
   "outputs": [
    {
     "ename": "MemoryError",
     "evalue": "",
     "output_type": "error",
     "traceback": [
      "\u001b[1;31m---------------------------------------------------------------------------\u001b[0m",
      "\u001b[1;31mMemoryError\u001b[0m                               Traceback (most recent call last)",
      "\u001b[1;32m~\\AppData\\Local\\Temp/ipykernel_33232/2080043990.py\u001b[0m in \u001b[0;36m<module>\u001b[1;34m\u001b[0m\n\u001b[0;32m      1\u001b[0m \u001b[1;31m# 样本平均值的抽样分布(n=31)\u001b[0m\u001b[1;33m\u001b[0m\u001b[1;33m\u001b[0m\u001b[0m\n\u001b[1;32m----> 2\u001b[1;33m \u001b[0msamples_1\u001b[0m \u001b[1;33m=\u001b[0m \u001b[0mlist\u001b[0m\u001b[1;33m(\u001b[0m\u001b[0mitertools\u001b[0m\u001b[1;33m.\u001b[0m\u001b[0mproduct\u001b[0m\u001b[1;33m(\u001b[0m\u001b[0mpopul_1\u001b[0m\u001b[1;33m,\u001b[0m\u001b[0mrepeat\u001b[0m \u001b[1;33m=\u001b[0m \u001b[1;36m31\u001b[0m\u001b[1;33m)\u001b[0m\u001b[1;33m)\u001b[0m\u001b[1;33m\u001b[0m\u001b[1;33m\u001b[0m\u001b[0m\n\u001b[0m",
      "\u001b[1;31mMemoryError\u001b[0m: "
     ]
    }
   ],
   "source": [
    "# 样本平均值的抽样分布(n=31)\n",
    "samples_1 = list(itertools.product(popul_1,repeat = 31))\n"
   ]
  },
  {
   "cell_type": "markdown",
   "id": "9ab7ebfb-4bbc-4566-a7c1-9a62abcb6cdd",
   "metadata": {},
   "source": [
    "# 总体服从正态分布"
   ]
  },
  {
   "cell_type": "code",
   "execution_count": 13,
   "id": "af73f059-35b9-4e74-8729-3adb045106b4",
   "metadata": {},
   "outputs": [
    {
     "data": {
      "text/plain": [
       "array([ 96.91532658, 118.37296628, 103.94048361,  98.21668123,\n",
       "        94.07146762,  84.35357764,  99.6831315 , 114.77064747,\n",
       "        99.25996444,  96.22420535, 104.83269866, 108.7925747 ,\n",
       "       102.02074689,  90.55841536, 109.36508222,  98.43520892,\n",
       "        87.07420657, 106.56989698,  95.11044131, 100.85646536,\n",
       "        94.25252896, 109.00857811,  99.58010579,  80.80969023,\n",
       "       107.1272668 ,  98.3936553 ,  91.60369513, 118.43874859,\n",
       "       110.7863641 , 102.93654239,  90.30590142, 102.10914217,\n",
       "        94.95915594,  92.54319523, 119.59523364,  98.0065307 ,\n",
       "       113.97889807, 121.60725766, 107.82398344, 105.72494949,\n",
       "       105.70628247, 115.23862675,  87.98527876,  94.05832039,\n",
       "        92.08414877,  95.60141528,  98.3567859 ,  90.63934352,\n",
       "        75.19668179, 102.27047618, 105.56693218, 114.67557462,\n",
       "        92.37718904,  98.47397282, 101.69247229,  85.28248285,\n",
       "       101.91771611,  87.80536422,  96.78615514,  99.83725272,\n",
       "       104.47623759,  90.47350848,  99.00260619,  93.52514731,\n",
       "        85.16877418, 111.57592011,  99.63716154, 115.35315106,\n",
       "       114.36778817,  93.09674072,  95.90395742, 105.29100069,\n",
       "        94.52899083, 101.46528166,  95.94883756, 100.1196577 ,\n",
       "       108.94616515, 100.81655147,  86.02107656, 109.42092657,\n",
       "       105.69738991,  91.28263327,  99.37251251,  94.70208938,\n",
       "        87.24872038, 114.45828272,  97.00535327, 127.35641758,\n",
       "        87.44188555, 106.42413296, 102.43104036,  95.54205448,\n",
       "       110.32579847, 107.17798789,  94.30719209,  96.01958093,\n",
       "       106.98089103,  92.56825884, 102.75876165, 103.46333957])"
      ]
     },
     "execution_count": 13,
     "metadata": {},
     "output_type": "execute_result"
    }
   ],
   "source": [
    "#生成100个服从正态分布的数值\n",
    "popul_2 = np.random.normal(100,10,size =100)\n",
    "popul_2"
   ]
  },
  {
   "cell_type": "code",
   "execution_count": 5,
   "id": "695fe70c-0e7b-4f81-a5b7-4613a1b0157c",
   "metadata": {},
   "outputs": [
    {
     "data": {
      "text/plain": [
       "106.3289526753767"
      ]
     },
     "execution_count": 5,
     "metadata": {},
     "output_type": "execute_result"
    }
   ],
   "source": [
    "popul_2.mean()"
   ]
  },
  {
   "cell_type": "code",
   "execution_count": 6,
   "id": "b9997a94-934f-44a1-b3bf-0645976835d3",
   "metadata": {},
   "outputs": [
    {
     "data": {
      "text/plain": [
       "8.17213205806062"
      ]
     },
     "execution_count": 6,
     "metadata": {},
     "output_type": "execute_result"
    }
   ],
   "source": [
    "popul_2.std()"
   ]
  },
  {
   "cell_type": "code",
   "execution_count": 14,
   "id": "c06006da-9905-4cd2-af1d-0fe412a00ae3",
   "metadata": {},
   "outputs": [
    {
     "data": {
      "text/plain": [
       "<AxesSubplot:ylabel='Count'>"
      ]
     },
     "execution_count": 14,
     "metadata": {},
     "output_type": "execute_result"
    },
    {
     "data": {
      "image/png": "[encoded data removed]",
      "text/plain": [
       "<Figure size 432x288 with 1 Axes>"
      ]
     },
     "metadata": {
      "needs_background": "light"
     },
     "output_type": "display_data"
    }
   ],
   "source": [
    "sns.histplot(popul_2,bins=10)"
   ]
  },
  {
   "cell_type": "markdown",
   "id": "76887699-df1a-448e-9e8f-018c1e413309",
   "metadata": {},
   "source": [
    "## 样本平均值抽样分布（n=5）"
   ]
  },
  {
   "cell_type": "code",
   "execution_count": null,
   "id": "b472091d-ceb8-4ad6-8a22-aff99809d40d",
   "metadata": {},
   "outputs": [],
   "source": [
    "samples_2 = list(itertools.product(popul_2,repeat = 5))"
   ]
  },
  {
   "cell_type": "code",
   "execution_count": 16,
   "id": "ac66b87b-9a5e-492b-82c8-1567e6da2ca4",
   "metadata": {},
   "outputs": [
    {
     "ename": "ValueError",
     "evalue": "too many values to unpack (expected 2)",
     "output_type": "error",
     "traceback": [
      "\u001b[1;31m---------------------------------------------------------------------------\u001b[0m",
      "\u001b[1;31mValueError\u001b[0m                                Traceback (most recent call last)",
      "\u001b[1;32m~\\AppData\\Local\\Temp/ipykernel_121344/2213951854.py\u001b[0m in \u001b[0;36m<module>\u001b[1;34m\u001b[0m\n\u001b[0;32m      1\u001b[0m \u001b[1;31m# 样本均值\u001b[0m\u001b[1;33m\u001b[0m\u001b[1;33m\u001b[0m\u001b[0m\n\u001b[0;32m      2\u001b[0m \u001b[0msamples_2_means\u001b[0m \u001b[1;33m=\u001b[0m \u001b[1;33m[\u001b[0m\u001b[1;33m]\u001b[0m\u001b[1;33m\u001b[0m\u001b[1;33m\u001b[0m\u001b[0m\n\u001b[1;32m----> 3\u001b[1;33m \u001b[1;32mfor\u001b[0m \u001b[0mi\u001b[0m\u001b[1;33m,\u001b[0m\u001b[0mj\u001b[0m \u001b[1;32min\u001b[0m \u001b[0msamples_2\u001b[0m\u001b[1;33m:\u001b[0m\u001b[1;33m\u001b[0m\u001b[1;33m\u001b[0m\u001b[0m\n\u001b[0m\u001b[0;32m      4\u001b[0m     \u001b[0msamples_2_means\u001b[0m\u001b[1;33m.\u001b[0m\u001b[0mappend\u001b[0m\u001b[1;33m(\u001b[0m \u001b[0mnp\u001b[0m\u001b[1;33m.\u001b[0m\u001b[0mmean\u001b[0m\u001b[1;33m(\u001b[0m\u001b[1;33m(\u001b[0m\u001b[0mi\u001b[0m\u001b[1;33m,\u001b[0m\u001b[0mj\u001b[0m\u001b[1;33m)\u001b[0m\u001b[1;33m)\u001b[0m \u001b[1;33m)\u001b[0m\u001b[1;33m\u001b[0m\u001b[1;33m\u001b[0m\u001b[0m\n",
      "\u001b[1;31mValueError\u001b[0m: too many values to unpack (expected 2)"
     ]
    }
   ],
   "source": [
    "# 样本均值\n",
    "samples_2_means = []\n",
    "for i,j in samples_2:\n",
    "    samples_2_means.append( np.mean((i,j)) )"
   ]
  },
  {
   "cell_type": "code",
   "execution_count": null,
   "id": "8c292694-dd52-4e54-8358-d2c4b19ed7c0",
   "metadata": {},
   "outputs": [],
   "source": []
  }
 ],
 "metadata": {
  "kernelspec": {
   "display_name": "Python 3.11.0 64-bit",
   "language": "python",
   "name": "python3"
  },
  "language_info": {
   "codemirror_mode": {
    "name": "ipython",
    "version": 3
   },
   "file_extension": ".py",
   "mimetype": "text/x-python",
   "name": "python",
   "nbconvert_exporter": "python",
   "pygments_lexer": "ipython3",
   "version": "3.11.0 (main, Oct 24 2022, 18:26:48) [MSC v.1933 64 bit (AMD64)]"
  },
  "vscode": {
   "interpreter": {
    "hash": "c261aea317cc0286b3b3261fbba9abdec21eaa57589985bb7a274bf54d6cc0a7"
   }
  }
 },
 "nbformat": 4,
 "nbformat_minor": 5
}
