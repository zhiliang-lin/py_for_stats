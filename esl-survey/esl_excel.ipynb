{
 "cells": [
  {
   "cell_type": "code",
   "execution_count": null,
   "metadata": {},
   "outputs": [],
   "source": [
    "# %pip install numpy\n",
    "# %pip install pandas\n",
    "# %pip install scipy\n",
    "# %pip install seaborn\n",
    "# %pip install matplotlib\n",
    "# %pip install stat/smodels\n",
    "# %pip install pingouin\n",
    "# %pip install openpyxl"
   ]
  },
  {
   "cell_type": "code",
   "execution_count": 2,
   "metadata": {},
   "outputs": [],
   "source": [
    "# 整理数据的库\n",
    "import numpy as np\n",
    "import pandas as pd\n",
    "# 数据可视化的库\n",
    "import matplotlib as mpl\n",
    "import matplotlib.pyplot as plt\n",
    "import seaborn as sns\n",
    "\n",
    "plt.rcParams['font.sans-serif'] = ['SimHei']  # 中文字体设置-黑体\n",
    "plt.rcParams['axes.unicode_minus'] = False  # 解决保存图像是负号'-'显示为方块的问题\n",
    "sns.set(font='SimHei')  # 解决Seaborn中文显示问题\n",
    "# 数据分析的库\n",
    "from scipy import stats\n",
    "import scipy.stats as stats\n",
    "import statsmodels.formula.api as smf # 回归分析\n",
    "from scipy.stats import chi2_contingency #卡方检验\n",
    "import pingouin as pg\n",
    "from statsmodels.stats.multicomp import pairwise_tukeyhsd #事后检验\n",
    "# 其它\n",
    "import warnings\n",
    "warnings.filterwarnings('ignore') #忽视警告\n"
   ]
  },
  {
   "cell_type": "code",
   "execution_count": 3,
   "metadata": {},
   "outputs": [],
   "source": [
    "# 读取数据\n",
    "df = pd.read_excel(\"https://raw.githubusercontent.com/zhiliang-lin/survey_and_stats/81cbe2a8bedb8bc1575bb25cc50cd89b46a170b4/esl-survey/esl.xlsx\")"
   ]
  },
  {
   "cell_type": "markdown",
   "metadata": {},
   "source": [
    "# 数据清洗"
   ]
  },
  {
   "cell_type": "code",
   "execution_count": 3,
   "metadata": {},
   "outputs": [],
   "source": [
    "# 定义函数方法:将数字和数字和代表含义一一映射\n",
    "\n",
    "# usage：1为\"是\"，其余为\"否\"\n",
    "def usage(series):\n",
    "    if series == 1:\n",
    "        return \"是\"\n",
    "    else:\n",
    "        return \"否\"\n",
    "\n",
    "\n",
    "# select：1为\"选中\"，其余为\"未选中\"\n",
    "def select(series):\n",
    "    if series == 1:\n",
    "        return \"选中\"\n",
    "    else:\n",
    "        return \"未选中\"\n",
    "\n",
    "\n",
    "# cet：1为\"通过了\"，2为\"未通过\"\n",
    "def cet(series):\n",
    "    if series == 1:\n",
    "        return \"通过了\"\n",
    "    else:\n",
    "        return \"未通过\"\n",
    "\n",
    "\n",
    "# gender变量：1为男性，2为女性\n",
    "def gender(series):\n",
    "    if series == 1:\n",
    "        return \"男性\"\n",
    "    else:\n",
    "        return \"女性\"\n",
    "\n",
    "\n",
    "# hukou变量：1为城镇，2为非城镇\n",
    "def hukou(series):\n",
    "    if series == 1:\n",
    "        return \"城镇类\"\n",
    "    else:\n",
    "        return \"非城镇类\"\n",
    "\n",
    "\n",
    "# grade变量：1-4为大一~大四\n",
    "def grade(series):\n",
    "    if series == 1:\n",
    "        return \"大一\"\n",
    "    elif series == 2:\n",
    "        return \"大二\"\n",
    "    elif series == 3:\n",
    "        return \"大三\"\n",
    "    else:\n",
    "        return \"大四\"\n",
    "\n",
    "\n",
    "# major_type变量：1为'人文社科类'，2为'理工医类'\n",
    "def major_type(series):\n",
    "    if series == 1:\n",
    "        return \"人文社科类\"\n",
    "    else:\n",
    "        return \"理工医类\"\n",
    "\n",
    "\n",
    "# school变量：1=商学院,2=电子与计算机工程学院,3=文学与传媒学院,4=护理与健康学院,5=艺术设计与创意产业系,6=会计学院,7=外国语学院,8=云康医学与健康学院,9=公共管理学院,10=音乐系，\n",
    "def school(series):\n",
    "    if series == 1:\n",
    "        return \"商学院\"\n",
    "    elif series == 2:\n",
    "        return \"电子与计算机工程学院\"\n",
    "    elif series == 3:\n",
    "        return \"文学与传媒学院\"\n",
    "    elif series == 4:\n",
    "        return \"护理与健康学院\"\n",
    "    elif series == 5:\n",
    "        return \"艺术设计与创意产业系\"\n",
    "    elif series == 6:\n",
    "        return \"会计学院\"\n",
    "    elif series == 7:\n",
    "        return \"外国语学院\"\n",
    "    elif series == 8:\n",
    "        return \"云康医学与健康学院\"\n",
    "    elif series == 9:\n",
    "        return \"公共管理学院\"\n",
    "    elif series == 10:\n",
    "        return \"音乐系\"\n",
    "\n",
    "\n",
    "# major变量：1=英语系,2=日语系,3=法语系,4=汉语国际教育系\n",
    "def major(series):\n",
    "    if series == 1:\n",
    "        return \"英语系\"\n",
    "    elif series == 2:\n",
    "        return \"日语系\"\n",
    "    elif series == 3:\n",
    "        return \"法语系\"\n",
    "    elif series == 4:\n",
    "        return \"汉语国际教育系\"\n",
    "\n"
   ]
  },
  {
   "cell_type": "code",
   "execution_count": 4,
   "metadata": {},
   "outputs": [],
   "source": [
    "# 将相应的变量转为“类别型变量”\n",
    "df.usage = df.usage.apply(usage).astype(\"category\")\n",
    "df.cet4 = df.cet4.apply(cet).astype(\"category\")\n",
    "df.cet6 = df.cet6.apply(cet).astype(\"category\")\n",
    "df.gender = df.gender.apply(gender).astype(\"category\")\n",
    "df.hukou = df.hukou.apply(hukou).astype(\"category\")\n",
    "df.grade = df.grade.apply(grade).astype(\"category\")\n",
    "df.major_type = df.major_type.apply(major_type).astype(\"category\")\n",
    "df.grade = df.grade.apply(grade).astype(\"category\")\n",
    "df.school = df.school.apply(school).astype(\"category\")\n",
    "df.major = df.major.apply(major).astype(\"category\")\n",
    "\n"
   ]
  },
  {
   "cell_type": "code",
   "execution_count": 5,
   "metadata": {},
   "outputs": [
    {
     "name": "stdout",
     "output_type": "stream",
     "text": [
      "0 usage\n",
      "1 platform_bilibili\n",
      "2 platform_icourse\n",
      "3 platform_tencent\n",
      "4 platform_other\n",
      "5 cet4\n",
      "6 cet6\n",
      "7 gaokao\n",
      "8 digital_skill\n",
      "9 study_grammar\n",
      "10 study_vocabulary\n",
      "11 study_listening\n",
      "12 study_speaking\n",
      "13 study_writing\n",
      "14 study_translation\n",
      "15 study_reading\n",
      "16 behav_1\n",
      "17 behav_2\n",
      "18 behav_3\n",
      "19 behav_4\n",
      "20 behav_5\n",
      "21 behav_6\n",
      "22 cogn_1\n",
      "23 cogn_2\n",
      "24 cogn_3\n",
      "25 cogn_4\n",
      "26 cogn_5\n",
      "27 cogn_6\n",
      "28 emo_1\n",
      "29 emo_2\n",
      "30 emo_3\n",
      "31 emo_4\n",
      "32 soc_1\n",
      "33 soc_2\n",
      "34 soc_3\n",
      "35 gender\n",
      "36 hukou\n",
      "37 grade\n",
      "38 major_type\n",
      "39 school\n",
      "40 major\n"
     ]
    }
   ],
   "source": [
    "# 看一下每一个变量对应的是第几个变量（变量名前的数字为其顺序）\n",
    "for i in range(len(df.columns)):\n",
    "    print(i,df.columns[i])"
   ]
  },
  {
   "cell_type": "code",
   "execution_count": 6,
   "metadata": {},
   "outputs": [],
   "source": [
    "# 将以“platform_”开头的变量（第1~5列的变量）转为“类别型变量”\n",
    "for i in range(1, 5):\n",
    "    df.iloc[:, i] = df.iloc[:, i].apply(select).astype(\"category\")\n",
    "\n"
   ]
  },
  {
   "cell_type": "code",
   "execution_count": 7,
   "metadata": {},
   "outputs": [
    {
     "data": {
      "text/html": [
       "<div>\n",
       "<style scoped>\n",
       "    .dataframe tbody tr th:only-of-type {\n",
       "        vertical-align: middle;\n",
       "    }\n",
       "\n",
       "    .dataframe tbody tr th {\n",
       "        vertical-align: top;\n",
       "    }\n",
       "\n",
       "    .dataframe thead th {\n",
       "        text-align: right;\n",
       "    }\n",
       "</style>\n",
       "<table border=\"1\" class=\"dataframe\">\n",
       "  <thead>\n",
       "    <tr style=\"text-align: right;\">\n",
       "      <th></th>\n",
       "      <th>platform_bilibili</th>\n",
       "      <th>platform_icourse</th>\n",
       "      <th>platform_tencent</th>\n",
       "      <th>platform_other</th>\n",
       "    </tr>\n",
       "  </thead>\n",
       "  <tbody>\n",
       "    <tr>\n",
       "      <th>0</th>\n",
       "      <td>未选中</td>\n",
       "      <td>未选中</td>\n",
       "      <td>未选中</td>\n",
       "      <td>未选中</td>\n",
       "    </tr>\n",
       "    <tr>\n",
       "      <th>1</th>\n",
       "      <td>选中</td>\n",
       "      <td>选中</td>\n",
       "      <td>选中</td>\n",
       "      <td>未选中</td>\n",
       "    </tr>\n",
       "    <tr>\n",
       "      <th>2</th>\n",
       "      <td>未选中</td>\n",
       "      <td>未选中</td>\n",
       "      <td>未选中</td>\n",
       "      <td>未选中</td>\n",
       "    </tr>\n",
       "    <tr>\n",
       "      <th>3</th>\n",
       "      <td>未选中</td>\n",
       "      <td>未选中</td>\n",
       "      <td>未选中</td>\n",
       "      <td>未选中</td>\n",
       "    </tr>\n",
       "    <tr>\n",
       "      <th>4</th>\n",
       "      <td>未选中</td>\n",
       "      <td>未选中</td>\n",
       "      <td>未选中</td>\n",
       "      <td>未选中</td>\n",
       "    </tr>\n",
       "  </tbody>\n",
       "</table>\n",
       "</div>"
      ],
      "text/plain": [
       "  platform_bilibili platform_icourse platform_tencent platform_other\n",
       "0               未选中              未选中              未选中            未选中\n",
       "1                选中               选中               选中            未选中\n",
       "2               未选中              未选中              未选中            未选中\n",
       "3               未选中              未选中              未选中            未选中\n",
       "4               未选中              未选中              未选中            未选中"
      ]
     },
     "execution_count": 7,
     "metadata": {},
     "output_type": "execute_result"
    }
   ],
   "source": [
    "# 检查一下结果\n",
    "df.filter(regex = \"^platform_.*\").head(5)"
   ]
  },
  {
   "cell_type": "markdown",
   "metadata": {},
   "source": [
    "# 反向编码"
   ]
  },
  {
   "cell_type": "code",
   "execution_count": 8,
   "metadata": {},
   "outputs": [
    {
     "data": {
      "text/plain": [
       "0    NaN\n",
       "1    4.0\n",
       "2    NaN\n",
       "3    NaN\n",
       "4    NaN\n",
       "5    6.0\n",
       "6    NaN\n",
       "7    NaN\n",
       "8    5.0\n",
       "9    3.0\n",
       "Name: emo_4, dtype: float64"
      ]
     },
     "execution_count": 8,
     "metadata": {},
     "output_type": "execute_result"
    }
   ],
   "source": [
    "# 第10题的第四小题是反向题，我们需要将数据的编码顺序进行反转。\n",
    "# 先看一下数据的形态\n",
    "df.emo_4.head(10)"
   ]
  },
  {
   "cell_type": "code",
   "execution_count": 18,
   "metadata": {},
   "outputs": [],
   "source": [
    "#通过列表的方式将编码形式进行转换\n",
    "before = [1,2,3,4,5,6]\n",
    "after = [6,5,4,3,2,1]\n",
    "\n",
    "df[\"emo_4_recode\"] = df[\"emo_4\"].replace(before,after)"
   ]
  },
  {
   "cell_type": "code",
   "execution_count": 19,
   "metadata": {},
   "outputs": [
    {
     "data": {
      "text/plain": [
       "0    NaN\n",
       "1    3.0\n",
       "2    NaN\n",
       "3    NaN\n",
       "4    NaN\n",
       "5    1.0\n",
       "6    NaN\n",
       "7    NaN\n",
       "8    2.0\n",
       "9    4.0\n",
       "Name: emo_4, dtype: float64"
      ]
     },
     "execution_count": 19,
     "metadata": {},
     "output_type": "execute_result"
    }
   ],
   "source": [
    "#查看反向编码之后的结果\n",
    "df.emo_4_recode.head(10)"
   ]
  },
  {
   "cell_type": "markdown",
   "metadata": {},
   "source": [
    "# 数据计算"
   ]
  },
  {
   "cell_type": "code",
   "execution_count": 173,
   "metadata": {},
   "outputs": [],
   "source": [
    "#计算behav,cogn,emo,soc这四个变量"
   ]
  },
  {
   "cell_type": "code",
   "execution_count": 21,
   "metadata": {},
   "outputs": [],
   "source": [
    "df[\"behav\"] = (\n",
    "    df.behav_1\n",
    "    + df.behav_2\n",
    "    + df.behav_3\n",
    "    + df.behav_4\n",
    "    + df.behav_5\n",
    "    + df.behav_6\n",
    ") / 6\n",
    "df[\"cogn\"] = (\n",
    "    df.cogn_1\n",
    "    + df.cogn_2\n",
    "    + df.cogn_3\n",
    "    + df.cogn_4\n",
    "    + df.cogn_5\n",
    "    + df.cogn_6\n",
    ") / 6\n",
    "df[\"emo\"] = (\n",
    "    df.emo_1 + df.emo_2 + df.emo_3 + df.emo_4_recode   #注意这里用反转后的题目\n",
    ") / 4\n",
    "df[\"soc\"] = (df.soc_1 + df.soc_2 + df.soc_3) / 3\n",
    "\n"
   ]
  },
  {
   "cell_type": "code",
   "execution_count": 14,
   "metadata": {},
   "outputs": [
    {
     "data": {
      "text/html": [
       "<div>\n",
       "<style scoped>\n",
       "    .dataframe tbody tr th:only-of-type {\n",
       "        vertical-align: middle;\n",
       "    }\n",
       "\n",
       "    .dataframe tbody tr th {\n",
       "        vertical-align: top;\n",
       "    }\n",
       "\n",
       "    .dataframe thead th {\n",
       "        text-align: right;\n",
       "    }\n",
       "</style>\n",
       "<table border=\"1\" class=\"dataframe\">\n",
       "  <thead>\n",
       "    <tr style=\"text-align: right;\">\n",
       "      <th></th>\n",
       "      <th>usage</th>\n",
       "      <th>platform_bilibili</th>\n",
       "      <th>platform_icourse</th>\n",
       "      <th>platform_tencent</th>\n",
       "      <th>platform_other</th>\n",
       "      <th>cet4</th>\n",
       "      <th>cet6</th>\n",
       "      <th>gaokao</th>\n",
       "      <th>digital_skill</th>\n",
       "      <th>study_grammar</th>\n",
       "      <th>...</th>\n",
       "      <th>gender</th>\n",
       "      <th>hukou</th>\n",
       "      <th>grade</th>\n",
       "      <th>major_type</th>\n",
       "      <th>school</th>\n",
       "      <th>major</th>\n",
       "      <th>behav</th>\n",
       "      <th>cogn</th>\n",
       "      <th>emo</th>\n",
       "      <th>soc</th>\n",
       "    </tr>\n",
       "  </thead>\n",
       "  <tbody>\n",
       "    <tr>\n",
       "      <th>0</th>\n",
       "      <td>否</td>\n",
       "      <td>未选中</td>\n",
       "      <td>未选中</td>\n",
       "      <td>未选中</td>\n",
       "      <td>未选中</td>\n",
       "      <td>通过了</td>\n",
       "      <td>未通过</td>\n",
       "      <td>2</td>\n",
       "      <td>4</td>\n",
       "      <td>NaN</td>\n",
       "      <td>...</td>\n",
       "      <td>女性</td>\n",
       "      <td>非城镇类</td>\n",
       "      <td>大四</td>\n",
       "      <td>人文社科类</td>\n",
       "      <td>文学与传媒学院</td>\n",
       "      <td>NaN</td>\n",
       "      <td>NaN</td>\n",
       "      <td>NaN</td>\n",
       "      <td>NaN</td>\n",
       "      <td>NaN</td>\n",
       "    </tr>\n",
       "    <tr>\n",
       "      <th>1</th>\n",
       "      <td>是</td>\n",
       "      <td>选中</td>\n",
       "      <td>选中</td>\n",
       "      <td>选中</td>\n",
       "      <td>未选中</td>\n",
       "      <td>未通过</td>\n",
       "      <td>未通过</td>\n",
       "      <td>4</td>\n",
       "      <td>4</td>\n",
       "      <td>2.0</td>\n",
       "      <td>...</td>\n",
       "      <td>男性</td>\n",
       "      <td>城镇类</td>\n",
       "      <td>大四</td>\n",
       "      <td>人文社科类</td>\n",
       "      <td>文学与传媒学院</td>\n",
       "      <td>NaN</td>\n",
       "      <td>3.333333</td>\n",
       "      <td>4.0</td>\n",
       "      <td>4.5</td>\n",
       "      <td>4.333333</td>\n",
       "    </tr>\n",
       "    <tr>\n",
       "      <th>2</th>\n",
       "      <td>否</td>\n",
       "      <td>未选中</td>\n",
       "      <td>未选中</td>\n",
       "      <td>未选中</td>\n",
       "      <td>未选中</td>\n",
       "      <td>通过了</td>\n",
       "      <td>未通过</td>\n",
       "      <td>3</td>\n",
       "      <td>5</td>\n",
       "      <td>NaN</td>\n",
       "      <td>...</td>\n",
       "      <td>女性</td>\n",
       "      <td>城镇类</td>\n",
       "      <td>大四</td>\n",
       "      <td>人文社科类</td>\n",
       "      <td>文学与传媒学院</td>\n",
       "      <td>NaN</td>\n",
       "      <td>NaN</td>\n",
       "      <td>NaN</td>\n",
       "      <td>NaN</td>\n",
       "      <td>NaN</td>\n",
       "    </tr>\n",
       "    <tr>\n",
       "      <th>3</th>\n",
       "      <td>否</td>\n",
       "      <td>未选中</td>\n",
       "      <td>未选中</td>\n",
       "      <td>未选中</td>\n",
       "      <td>未选中</td>\n",
       "      <td>未通过</td>\n",
       "      <td>未通过</td>\n",
       "      <td>2</td>\n",
       "      <td>5</td>\n",
       "      <td>NaN</td>\n",
       "      <td>...</td>\n",
       "      <td>女性</td>\n",
       "      <td>城镇类</td>\n",
       "      <td>大四</td>\n",
       "      <td>人文社科类</td>\n",
       "      <td>文学与传媒学院</td>\n",
       "      <td>NaN</td>\n",
       "      <td>NaN</td>\n",
       "      <td>NaN</td>\n",
       "      <td>NaN</td>\n",
       "      <td>NaN</td>\n",
       "    </tr>\n",
       "    <tr>\n",
       "      <th>4</th>\n",
       "      <td>否</td>\n",
       "      <td>未选中</td>\n",
       "      <td>未选中</td>\n",
       "      <td>未选中</td>\n",
       "      <td>未选中</td>\n",
       "      <td>未通过</td>\n",
       "      <td>未通过</td>\n",
       "      <td>2</td>\n",
       "      <td>5</td>\n",
       "      <td>NaN</td>\n",
       "      <td>...</td>\n",
       "      <td>女性</td>\n",
       "      <td>非城镇类</td>\n",
       "      <td>大四</td>\n",
       "      <td>人文社科类</td>\n",
       "      <td>文学与传媒学院</td>\n",
       "      <td>NaN</td>\n",
       "      <td>NaN</td>\n",
       "      <td>NaN</td>\n",
       "      <td>NaN</td>\n",
       "      <td>NaN</td>\n",
       "    </tr>\n",
       "  </tbody>\n",
       "</table>\n",
       "<p>5 rows × 45 columns</p>\n",
       "</div>"
      ],
      "text/plain": [
       "  usage platform_bilibili platform_icourse platform_tencent platform_other  \\\n",
       "0     否               未选中              未选中              未选中            未选中   \n",
       "1     是                选中               选中               选中            未选中   \n",
       "2     否               未选中              未选中              未选中            未选中   \n",
       "3     否               未选中              未选中              未选中            未选中   \n",
       "4     否               未选中              未选中              未选中            未选中   \n",
       "\n",
       "  cet4 cet6  gaokao  digital_skill  study_grammar  ...  gender  hukou  grade  \\\n",
       "0  通过了  未通过       2              4            NaN  ...      女性   非城镇类     大四   \n",
       "1  未通过  未通过       4              4            2.0  ...      男性    城镇类     大四   \n",
       "2  通过了  未通过       3              5            NaN  ...      女性    城镇类     大四   \n",
       "3  未通过  未通过       2              5            NaN  ...      女性    城镇类     大四   \n",
       "4  未通过  未通过       2              5            NaN  ...      女性   非城镇类     大四   \n",
       "\n",
       "   major_type   school  major     behav  cogn  emo       soc  \n",
       "0       人文社科类  文学与传媒学院    NaN       NaN   NaN  NaN       NaN  \n",
       "1       人文社科类  文学与传媒学院    NaN  3.333333   4.0  4.5  4.333333  \n",
       "2       人文社科类  文学与传媒学院    NaN       NaN   NaN  NaN       NaN  \n",
       "3       人文社科类  文学与传媒学院    NaN       NaN   NaN  NaN       NaN  \n",
       "4       人文社科类  文学与传媒学院    NaN       NaN   NaN  NaN       NaN  \n",
       "\n",
       "[5 rows x 45 columns]"
      ]
     },
     "execution_count": 14,
     "metadata": {},
     "output_type": "execute_result"
    }
   ],
   "source": [
    "#检查一下数据\n",
    "df.head(5)"
   ]
  },
  {
   "cell_type": "markdown",
   "metadata": {},
   "source": [
    "#筛选一个数据集出来供部分统计分析使用"
   ]
  },
  {
   "cell_type": "code",
   "execution_count": null,
   "metadata": {},
   "outputs": [],
   "source": [
    "df_yes = df[df.usage == \"是\"] # 使用在线英语学习平台的子样本"
   ]
  },
  {
   "cell_type": "markdown",
   "metadata": {},
   "source": [
    "# 数据分析"
   ]
  },
  {
   "cell_type": "markdown",
   "metadata": {},
   "source": [
    "## ✨探索数据（描述性统计）"
   ]
  },
  {
   "cell_type": "code",
   "execution_count": 176,
   "metadata": {},
   "outputs": [
    {
     "data": {
      "text/html": [
       "<div>\n",
       "<style scoped>\n",
       "    .dataframe tbody tr th:only-of-type {\n",
       "        vertical-align: middle;\n",
       "    }\n",
       "\n",
       "    .dataframe tbody tr th {\n",
       "        vertical-align: top;\n",
       "    }\n",
       "\n",
       "    .dataframe thead th {\n",
       "        text-align: right;\n",
       "    }\n",
       "</style>\n",
       "<table border=\"1\" class=\"dataframe\">\n",
       "  <thead>\n",
       "    <tr style=\"text-align: right;\">\n",
       "      <th></th>\n",
       "      <th>gaokao</th>\n",
       "      <th>digital_skill</th>\n",
       "      <th>study_grammar</th>\n",
       "      <th>study_vocabulary</th>\n",
       "      <th>study_listening</th>\n",
       "      <th>study_speaking</th>\n",
       "      <th>study_writing</th>\n",
       "      <th>study_translation</th>\n",
       "      <th>study_reading</th>\n",
       "      <th>behav_1</th>\n",
       "      <th>...</th>\n",
       "      <th>emo_2</th>\n",
       "      <th>emo_3</th>\n",
       "      <th>emo_4</th>\n",
       "      <th>soc_1</th>\n",
       "      <th>soc_2</th>\n",
       "      <th>soc_3</th>\n",
       "      <th>behav</th>\n",
       "      <th>cogn</th>\n",
       "      <th>emo</th>\n",
       "      <th>soc</th>\n",
       "    </tr>\n",
       "  </thead>\n",
       "  <tbody>\n",
       "    <tr>\n",
       "      <th>count</th>\n",
       "      <td>57.000000</td>\n",
       "      <td>57.000000</td>\n",
       "      <td>29.000000</td>\n",
       "      <td>29.000000</td>\n",
       "      <td>29.000000</td>\n",
       "      <td>29.000000</td>\n",
       "      <td>29.000000</td>\n",
       "      <td>29.000000</td>\n",
       "      <td>29.000000</td>\n",
       "      <td>29.000000</td>\n",
       "      <td>...</td>\n",
       "      <td>29.000000</td>\n",
       "      <td>29.000000</td>\n",
       "      <td>29.000000</td>\n",
       "      <td>29.000000</td>\n",
       "      <td>29.000000</td>\n",
       "      <td>29.000000</td>\n",
       "      <td>29.000000</td>\n",
       "      <td>29.000000</td>\n",
       "      <td>29.000000</td>\n",
       "      <td>29.000000</td>\n",
       "    </tr>\n",
       "    <tr>\n",
       "      <th>mean</th>\n",
       "      <td>2.701754</td>\n",
       "      <td>3.894737</td>\n",
       "      <td>1.896552</td>\n",
       "      <td>2.862069</td>\n",
       "      <td>2.344828</td>\n",
       "      <td>1.931034</td>\n",
       "      <td>2.034483</td>\n",
       "      <td>2.206897</td>\n",
       "      <td>2.482759</td>\n",
       "      <td>3.413793</td>\n",
       "      <td>...</td>\n",
       "      <td>3.758621</td>\n",
       "      <td>3.758621</td>\n",
       "      <td>4.034483</td>\n",
       "      <td>3.517241</td>\n",
       "      <td>3.241379</td>\n",
       "      <td>3.482759</td>\n",
       "      <td>3.298851</td>\n",
       "      <td>3.793103</td>\n",
       "      <td>3.896552</td>\n",
       "      <td>3.413793</td>\n",
       "    </tr>\n",
       "    <tr>\n",
       "      <th>std</th>\n",
       "      <td>1.034493</td>\n",
       "      <td>0.938924</td>\n",
       "      <td>0.816999</td>\n",
       "      <td>0.953345</td>\n",
       "      <td>0.813979</td>\n",
       "      <td>0.842235</td>\n",
       "      <td>0.778403</td>\n",
       "      <td>0.861034</td>\n",
       "      <td>0.911070</td>\n",
       "      <td>1.401969</td>\n",
       "      <td>...</td>\n",
       "      <td>1.272095</td>\n",
       "      <td>1.122980</td>\n",
       "      <td>1.017095</td>\n",
       "      <td>1.326130</td>\n",
       "      <td>1.405478</td>\n",
       "      <td>1.271127</td>\n",
       "      <td>1.054449</td>\n",
       "      <td>1.074280</td>\n",
       "      <td>0.978604</td>\n",
       "      <td>1.268217</td>\n",
       "    </tr>\n",
       "    <tr>\n",
       "      <th>min</th>\n",
       "      <td>1.000000</td>\n",
       "      <td>2.000000</td>\n",
       "      <td>1.000000</td>\n",
       "      <td>1.000000</td>\n",
       "      <td>1.000000</td>\n",
       "      <td>1.000000</td>\n",
       "      <td>1.000000</td>\n",
       "      <td>1.000000</td>\n",
       "      <td>1.000000</td>\n",
       "      <td>1.000000</td>\n",
       "      <td>...</td>\n",
       "      <td>1.000000</td>\n",
       "      <td>1.000000</td>\n",
       "      <td>1.000000</td>\n",
       "      <td>1.000000</td>\n",
       "      <td>1.000000</td>\n",
       "      <td>1.000000</td>\n",
       "      <td>1.000000</td>\n",
       "      <td>1.000000</td>\n",
       "      <td>1.000000</td>\n",
       "      <td>1.000000</td>\n",
       "    </tr>\n",
       "    <tr>\n",
       "      <th>25%</th>\n",
       "      <td>2.000000</td>\n",
       "      <td>3.000000</td>\n",
       "      <td>1.000000</td>\n",
       "      <td>2.000000</td>\n",
       "      <td>2.000000</td>\n",
       "      <td>1.000000</td>\n",
       "      <td>1.000000</td>\n",
       "      <td>2.000000</td>\n",
       "      <td>2.000000</td>\n",
       "      <td>2.000000</td>\n",
       "      <td>...</td>\n",
       "      <td>3.000000</td>\n",
       "      <td>3.000000</td>\n",
       "      <td>4.000000</td>\n",
       "      <td>3.000000</td>\n",
       "      <td>2.000000</td>\n",
       "      <td>3.000000</td>\n",
       "      <td>2.500000</td>\n",
       "      <td>3.333333</td>\n",
       "      <td>3.500000</td>\n",
       "      <td>2.333333</td>\n",
       "    </tr>\n",
       "    <tr>\n",
       "      <th>50%</th>\n",
       "      <td>3.000000</td>\n",
       "      <td>4.000000</td>\n",
       "      <td>2.000000</td>\n",
       "      <td>3.000000</td>\n",
       "      <td>2.000000</td>\n",
       "      <td>2.000000</td>\n",
       "      <td>2.000000</td>\n",
       "      <td>2.000000</td>\n",
       "      <td>3.000000</td>\n",
       "      <td>4.000000</td>\n",
       "      <td>...</td>\n",
       "      <td>4.000000</td>\n",
       "      <td>4.000000</td>\n",
       "      <td>4.000000</td>\n",
       "      <td>4.000000</td>\n",
       "      <td>3.000000</td>\n",
       "      <td>4.000000</td>\n",
       "      <td>3.500000</td>\n",
       "      <td>4.000000</td>\n",
       "      <td>4.000000</td>\n",
       "      <td>3.333333</td>\n",
       "    </tr>\n",
       "    <tr>\n",
       "      <th>75%</th>\n",
       "      <td>3.000000</td>\n",
       "      <td>5.000000</td>\n",
       "      <td>2.000000</td>\n",
       "      <td>4.000000</td>\n",
       "      <td>3.000000</td>\n",
       "      <td>2.000000</td>\n",
       "      <td>3.000000</td>\n",
       "      <td>3.000000</td>\n",
       "      <td>3.000000</td>\n",
       "      <td>4.000000</td>\n",
       "      <td>...</td>\n",
       "      <td>4.000000</td>\n",
       "      <td>4.000000</td>\n",
       "      <td>5.000000</td>\n",
       "      <td>4.000000</td>\n",
       "      <td>4.000000</td>\n",
       "      <td>4.000000</td>\n",
       "      <td>4.000000</td>\n",
       "      <td>4.333333</td>\n",
       "      <td>4.250000</td>\n",
       "      <td>4.333333</td>\n",
       "    </tr>\n",
       "    <tr>\n",
       "      <th>max</th>\n",
       "      <td>5.000000</td>\n",
       "      <td>5.000000</td>\n",
       "      <td>4.000000</td>\n",
       "      <td>4.000000</td>\n",
       "      <td>4.000000</td>\n",
       "      <td>4.000000</td>\n",
       "      <td>3.000000</td>\n",
       "      <td>4.000000</td>\n",
       "      <td>4.000000</td>\n",
       "      <td>6.000000</td>\n",
       "      <td>...</td>\n",
       "      <td>6.000000</td>\n",
       "      <td>6.000000</td>\n",
       "      <td>6.000000</td>\n",
       "      <td>6.000000</td>\n",
       "      <td>6.000000</td>\n",
       "      <td>6.000000</td>\n",
       "      <td>5.000000</td>\n",
       "      <td>6.000000</td>\n",
       "      <td>6.000000</td>\n",
       "      <td>6.000000</td>\n",
       "    </tr>\n",
       "  </tbody>\n",
       "</table>\n",
       "<p>8 rows × 32 columns</p>\n",
       "</div>"
      ],
      "text/plain": [
       "          gaokao  digital_skill  study_grammar  study_vocabulary  \\\n",
       "count  57.000000      57.000000      29.000000         29.000000   \n",
       "mean    2.701754       3.894737       1.896552          2.862069   \n",
       "std     1.034493       0.938924       0.816999          0.953345   \n",
       "min     1.000000       2.000000       1.000000          1.000000   \n",
       "25%     2.000000       3.000000       1.000000          2.000000   \n",
       "50%     3.000000       4.000000       2.000000          3.000000   \n",
       "75%     3.000000       5.000000       2.000000          4.000000   \n",
       "max     5.000000       5.000000       4.000000          4.000000   \n",
       "\n",
       "       study_listening  study_speaking  study_writing  study_translation  \\\n",
       "count        29.000000       29.000000      29.000000          29.000000   \n",
       "mean          2.344828        1.931034       2.034483           2.206897   \n",
       "std           0.813979        0.842235       0.778403           0.861034   \n",
       "min           1.000000        1.000000       1.000000           1.000000   \n",
       "25%           2.000000        1.000000       1.000000           2.000000   \n",
       "50%           2.000000        2.000000       2.000000           2.000000   \n",
       "75%           3.000000        2.000000       3.000000           3.000000   \n",
       "max           4.000000        4.000000       3.000000           4.000000   \n",
       "\n",
       "       study_reading    behav_1  ...      emo_2      emo_3      emo_4  \\\n",
       "count      29.000000  29.000000  ...  29.000000  29.000000  29.000000   \n",
       "mean        2.482759   3.413793  ...   3.758621   3.758621   4.034483   \n",
       "std         0.911070   1.401969  ...   1.272095   1.122980   1.017095   \n",
       "min         1.000000   1.000000  ...   1.000000   1.000000   1.000000   \n",
       "25%         2.000000   2.000000  ...   3.000000   3.000000   4.000000   \n",
       "50%         3.000000   4.000000  ...   4.000000   4.000000   4.000000   \n",
       "75%         3.000000   4.000000  ...   4.000000   4.000000   5.000000   \n",
       "max         4.000000   6.000000  ...   6.000000   6.000000   6.000000   \n",
       "\n",
       "           soc_1      soc_2      soc_3      behav       cogn        emo  \\\n",
       "count  29.000000  29.000000  29.000000  29.000000  29.000000  29.000000   \n",
       "mean    3.517241   3.241379   3.482759   3.298851   3.793103   3.896552   \n",
       "std     1.326130   1.405478   1.271127   1.054449   1.074280   0.978604   \n",
       "min     1.000000   1.000000   1.000000   1.000000   1.000000   1.000000   \n",
       "25%     3.000000   2.000000   3.000000   2.500000   3.333333   3.500000   \n",
       "50%     4.000000   3.000000   4.000000   3.500000   4.000000   4.000000   \n",
       "75%     4.000000   4.000000   4.000000   4.000000   4.333333   4.250000   \n",
       "max     6.000000   6.000000   6.000000   5.000000   6.000000   6.000000   \n",
       "\n",
       "             soc  \n",
       "count  29.000000  \n",
       "mean    3.413793  \n",
       "std     1.268217  \n",
       "min     1.000000  \n",
       "25%     2.333333  \n",
       "50%     3.333333  \n",
       "75%     4.333333  \n",
       "max     6.000000  \n",
       "\n",
       "[8 rows x 32 columns]"
      ]
     },
     "execution_count": 176,
     "metadata": {},
     "output_type": "execute_result"
    }
   ],
   "source": [
    "# 返回所有变量的描述性统计结果（注意——这里的描述性统计结果仅适用于“数值型变量”）\n",
    "df.describe()"
   ]
  },
  {
   "cell_type": "code",
   "execution_count": 177,
   "metadata": {},
   "outputs": [
    {
     "data": {
      "text/plain": [
       "count    29.000000\n",
       "mean      3.298851\n",
       "std       1.054449\n",
       "min       1.000000\n",
       "25%       2.500000\n",
       "50%       3.500000\n",
       "75%       4.000000\n",
       "max       5.000000\n",
       "Name: behav, dtype: float64"
      ]
     },
     "execution_count": 177,
     "metadata": {},
     "output_type": "execute_result"
    }
   ],
   "source": [
    "# 返回单个变量的描述性统计结果\n",
    "df[\"behav\"].describe()\n"
   ]
  },
  {
   "cell_type": "code",
   "execution_count": 178,
   "metadata": {},
   "outputs": [
    {
     "data": {
      "text/plain": [
       "<seaborn.axisgrid.FacetGrid at 0x1b90c24f3a0>"
      ]
     },
     "execution_count": 178,
     "metadata": {},
     "output_type": "execute_result"
    },
    {
     "data": {
      "image/png": "[encoded data removed]",
      "text/plain": [
       "<Figure size 360x360 with 1 Axes>"
      ]
     },
     "metadata": {},
     "output_type": "display_data"
    }
   ],
   "source": [
    "# 直方图\n",
    "sns.histplot(data=df, x = \"behav\")"
   ]
  },
  {
   "cell_type": "code",
   "execution_count": 179,
   "metadata": {},
   "outputs": [
    {
     "data": {
      "text/plain": [
       "女性    47\n",
       "男性    10\n",
       "Name: gender, dtype: int64"
      ]
     },
     "execution_count": 179,
     "metadata": {},
     "output_type": "execute_result"
    }
   ],
   "source": [
    "# 类别型变量的描述性统计结果\n",
    "df.gender.value_counts()"
   ]
  },
  {
   "cell_type": "code",
   "execution_count": 180,
   "metadata": {},
   "outputs": [
    {
     "data": {
      "text/plain": [
       "<AxesSubplot:xlabel='gender', ylabel='count'>"
      ]
     },
     "execution_count": 180,
     "metadata": {},
     "output_type": "execute_result"
    },
    {
     "data": {
      "image/png": "[encoded data removed]",
      "text/plain": [
       "<Figure size 432x288 with 1 Axes>"
      ]
     },
     "metadata": {},
     "output_type": "display_data"
    }
   ],
   "source": [
    "# 条形图\n",
    "sns.countplot(x=\"gender\", data=df)"
   ]
  },
  {
   "cell_type": "code",
   "execution_count": 181,
   "metadata": {},
   "outputs": [
    {
     "data": {
      "text/plain": [
       "文学与传媒学院       31\n",
       "商学院           10\n",
       "会计学院           5\n",
       "公共管理学院         4\n",
       "电子与计算机工程学院     4\n",
       "云康医学与健康学院      1\n",
       "艺术设计与创意产业系     1\n",
       "音乐系            1\n",
       "Name: school, dtype: int64"
      ]
     },
     "execution_count": 181,
     "metadata": {},
     "output_type": "execute_result"
    }
   ],
   "source": [
    "# 饼状图\n",
    "table_school = df.school.value_counts()#将学院变量整理成表格\n",
    "table_school\n"
   ]
  },
  {
   "cell_type": "code",
   "execution_count": 182,
   "metadata": {},
   "outputs": [
    {
     "data": {
      "text/plain": [
       "<AxesSubplot:ylabel='school'>"
      ]
     },
     "execution_count": 182,
     "metadata": {},
     "output_type": "execute_result"
    },
    {
     "data": {
      "image/png": "[encoded data removed]",
      "text/plain": [
       "<Figure size 432x288 with 1 Axes>"
      ]
     },
     "metadata": {},
     "output_type": "display_data"
    }
   ],
   "source": [
    "colors = sns.color_palette('pastel')[0:5] #使用seaborn的调色板\n",
    "\n",
    "table_school.plot.pie(colors = colors)#用matplotlib画图"
   ]
  },
  {
   "cell_type": "markdown",
   "metadata": {},
   "source": [
    "## 🎉推断性统计"
   ]
  },
  {
   "cell_type": "markdown",
   "metadata": {},
   "source": [
    "### 1、独立样本t检验"
   ]
  },
  {
   "cell_type": "markdown",
   "metadata": {},
   "source": [
    "性别（gender） & 行为投入(behav)"
   ]
  },
  {
   "cell_type": "code",
   "execution_count": 183,
   "metadata": {},
   "outputs": [
    {
     "data": {
      "text/plain": [
       "gender\n",
       "女性    3.405797\n",
       "男性    2.888889\n",
       "Name: behav, dtype: float64"
      ]
     },
     "execution_count": 183,
     "metadata": {},
     "output_type": "execute_result"
    }
   ],
   "source": [
    "# 男女生行为投入的平均值\n",
    "df.groupby(\"gender\").behav.mean()\n",
    "\n"
   ]
  },
  {
   "cell_type": "code",
   "execution_count": 204,
   "metadata": {},
   "outputs": [
    {
     "data": {
      "text/plain": [
       "Ttest_indResult(statistic=-1.0722246921722047, pvalue=0.2931097853713329)"
      ]
     },
     "execution_count": 204,
     "metadata": {},
     "output_type": "execute_result"
    }
   ],
   "source": [
    "# 独立样本t检验结果（检验统计量t值，p值）\n",
    "stats.ttest_ind(\n",
    "    df_yes[\"behav\"][df_yes[\"gender\"] == \"男性\"],\n",
    "    df_yes[\"behav\"][df_yes[\"gender\"] == \"女性\"],\n",
    ")\n",
    "\n"
   ]
  },
  {
   "cell_type": "code",
   "execution_count": 185,
   "metadata": {},
   "outputs": [
    {
     "data": {
      "text/plain": [
       "<AxesSubplot:xlabel='gender', ylabel='behav'>"
      ]
     },
     "execution_count": 185,
     "metadata": {},
     "output_type": "execute_result"
    },
    {
     "data": {
      "image/png": "[encoded data removed]",
      "text/plain": [
       "<Figure size 432x288 with 1 Axes>"
      ]
     },
     "metadata": {},
     "output_type": "display_data"
    }
   ],
   "source": [
    "## 独立样本t检验结果可视化\n",
    "sns.boxplot(x = df[\"gender\"], y = df[\"behav\"]) "
   ]
  },
  {
   "cell_type": "markdown",
   "metadata": {},
   "source": [
    "**结果解读：**\n",
    "男生和女生行为投入分别是3.41和2.89.独立样本t检验显示男生和女生行为投入**没有显著差异**(t=-1.07,p=0.29 > 0.05)。"
   ]
  },
  {
   "cell_type": "markdown",
   "metadata": {},
   "source": [
    "### 2、单因素方差分析"
   ]
  },
  {
   "cell_type": "markdown",
   "metadata": {},
   "source": [
    "学院（school） & 行为投入（behav）"
   ]
  },
  {
   "cell_type": "code",
   "execution_count": 186,
   "metadata": {},
   "outputs": [
    {
     "data": {
      "text/plain": [
       "school\n",
       "云康医学与健康学院     4.500000\n",
       "会计学院          3.500000\n",
       "公共管理学院        3.333333\n",
       "商学院           3.700000\n",
       "文学与传媒学院       3.186275\n",
       "电子与计算机工程学院    1.000000\n",
       "艺术设计与创意产业系    4.000000\n",
       "音乐系                NaN\n",
       "Name: behav, dtype: float64"
      ]
     },
     "execution_count": 186,
     "metadata": {},
     "output_type": "execute_result"
    }
   ],
   "source": [
    "df.groupby('school').behav.mean()"
   ]
  },
  {
   "cell_type": "code",
   "execution_count": 187,
   "metadata": {},
   "outputs": [
    {
     "name": "stdout",
     "output_type": "stream",
     "text": [
      "   Source         SS  DF        MS        F     p-unc       np2\n",
      "0  school   8.283164   6  1.380527  1.32923  0.286206  0.266064\n",
      "1  Within  22.849020  22  1.038592      NaN       NaN       NaN\n"
     ]
    }
   ],
   "source": [
    "# 单因素方差分析\n",
    "aov = pg.anova(data=df, dv=\"behav\", between=\"school\", detailed=True)\n",
    "print(aov)\n"
   ]
  },
  {
   "cell_type": "code",
   "execution_count": 203,
   "metadata": {},
   "outputs": [
    {
     "name": "stdout",
     "output_type": "stream",
     "text": [
      "    Multiple Comparison of Means - Tukey HSD, FWER=0.05    \n",
      "===========================================================\n",
      "  group1     group2   meandiff p-adj   lower  upper  reject\n",
      "-----------------------------------------------------------\n",
      " 云康医学与健康学院       会计学院     -1.0    0.9 -5.6645 3.6645  False\n",
      " 云康医学与健康学院     公共管理学院  -1.1667    0.9 -4.9752 2.6419  False\n",
      " 云康医学与健康学院        商学院     -0.8    0.9 -4.4131 2.8131  False\n",
      " 云康医学与健康学院    文学与传媒学院  -1.3137 0.8511 -4.7076 2.0802  False\n",
      " 云康医学与健康学院 电子与计算机工程学院     -3.5 0.2337 -8.1645 1.1645  False\n",
      " 云康医学与健康学院 艺术设计与创意产业系     -0.5    0.9 -5.1645 4.1645  False\n",
      "      会计学院     公共管理学院  -0.1667    0.9 -3.9752 3.6419  False\n",
      "      会计学院        商学院      0.2    0.9 -3.4131 3.8131  False\n",
      "      会计学院    文学与传媒学院  -0.3137    0.9 -3.7076 3.0802  False\n",
      "      会计学院 电子与计算机工程学院     -2.5   0.59 -7.1645 2.1645  False\n",
      "      会计学院 艺术设计与创意产业系      0.5    0.9 -4.1645 5.1645  False\n",
      "    公共管理学院        商学院   0.3667    0.9 -2.0421 2.7754  False\n",
      "    公共管理学院    文学与传媒学院  -0.1471    0.9 -2.2125 1.9184  False\n",
      "    公共管理学院 电子与计算机工程学院  -2.3333 0.4539 -6.1419 1.4752  False\n",
      "    公共管理学院 艺术设计与创意产业系   0.6667    0.9 -3.1419 4.4752  False\n",
      "       商学院    文学与传媒学院  -0.5137    0.9 -2.1917 1.1643  False\n",
      "       商学院 电子与计算机工程学院     -2.7 0.2375 -6.3131 0.9131  False\n",
      "       商学院 艺术设计与创意产业系      0.3    0.9 -3.3131 3.9131  False\n",
      "   文学与传媒学院 电子与计算机工程学院  -2.1863 0.3964 -5.5802 1.2076  False\n",
      "   文学与传媒学院 艺术设计与创意产业系   0.8137    0.9 -2.5802 4.2076  False\n",
      "电子与计算机工程学院 艺术设计与创意产业系      3.0 0.3983 -1.6645 7.6645  False\n",
      "-----------------------------------------------------------\n"
     ]
    }
   ],
   "source": [
    "#事后检验\n",
    "posthoc = pairwise_tukeyhsd(df_yes['behav'], df_yes['school'])\n",
    "print(posthoc)"
   ]
  },
  {
   "cell_type": "code",
   "execution_count": 189,
   "metadata": {},
   "outputs": [
    {
     "data": {
      "text/plain": [
       "<AxesSubplot:xlabel='school', ylabel='behav'>"
      ]
     },
     "execution_count": 189,
     "metadata": {},
     "output_type": "execute_result"
    },
    {
     "data": {
      "image/png": "[encoded data removed]",
      "text/plain": [
       "<Figure size 432x288 with 1 Axes>"
      ]
     },
     "metadata": {},
     "output_type": "display_data"
    }
   ],
   "source": [
    "# 单因素方差分析结果可视化\n",
    "sns.boxplot(x=\"school\", y=\"behav\", data=df)"
   ]
  },
  {
   "cell_type": "code",
   "execution_count": 190,
   "metadata": {},
   "outputs": [
    {
     "data": {
      "text/plain": [
       "<AxesSubplot:xlabel='school', ylabel='behav'>"
      ]
     },
     "execution_count": 190,
     "metadata": {},
     "output_type": "execute_result"
    },
    {
     "data": {
      "image/png": "[encoded data removed]",
      "text/plain": [
       "<Figure size 432x288 with 1 Axes>"
      ]
     },
     "metadata": {},
     "output_type": "display_data"
    }
   ],
   "source": [
    "# 筛选\"文学与传媒学院\",\"商学院\",\"公共管理学院\"这三个学院\n",
    "sns.boxplot(x = 'school', y = 'behav', data = df, order= [\"文学与传媒学院\",\"商学院\",\"公共管理学院\"]) "
   ]
  },
  {
   "cell_type": "markdown",
   "metadata": {},
   "source": [
    "**结果解读：**\n",
    "不同学院的学生在行为投入上**没有显著差异**(F = 1.33, p = 0.29 > 0.05)。"
   ]
  },
  {
   "cell_type": "markdown",
   "metadata": {},
   "source": [
    "### 3、卡方检验"
   ]
  },
  {
   "cell_type": "markdown",
   "metadata": {},
   "source": [
    "四级成绩(cet4) & 平台使用（usage）"
   ]
  },
  {
   "cell_type": "code",
   "execution_count": 191,
   "metadata": {},
   "outputs": [
    {
     "data": {
      "text/html": [
       "<div>\n",
       "<style scoped>\n",
       "    .dataframe tbody tr th:only-of-type {\n",
       "        vertical-align: middle;\n",
       "    }\n",
       "\n",
       "    .dataframe tbody tr th {\n",
       "        vertical-align: top;\n",
       "    }\n",
       "\n",
       "    .dataframe thead th {\n",
       "        text-align: right;\n",
       "    }\n",
       "</style>\n",
       "<table border=\"1\" class=\"dataframe\">\n",
       "  <thead>\n",
       "    <tr style=\"text-align: right;\">\n",
       "      <th>usage</th>\n",
       "      <th>否</th>\n",
       "      <th>是</th>\n",
       "    </tr>\n",
       "    <tr>\n",
       "      <th>cet4</th>\n",
       "      <th></th>\n",
       "      <th></th>\n",
       "    </tr>\n",
       "  </thead>\n",
       "  <tbody>\n",
       "    <tr>\n",
       "      <th>未通过</th>\n",
       "      <td>13</td>\n",
       "      <td>12</td>\n",
       "    </tr>\n",
       "    <tr>\n",
       "      <th>通过了</th>\n",
       "      <td>15</td>\n",
       "      <td>17</td>\n",
       "    </tr>\n",
       "  </tbody>\n",
       "</table>\n",
       "</div>"
      ],
      "text/plain": [
       "usage   否   是\n",
       "cet4         \n",
       "未通过    13  12\n",
       "通过了    15  17"
      ]
     },
     "execution_count": 191,
     "metadata": {},
     "output_type": "execute_result"
    }
   ],
   "source": [
    "# 列联表\n",
    "crosstab = pd.crosstab(df.cet4,df.usage)\n",
    "crosstab\n"
   ]
  },
  {
   "cell_type": "code",
   "execution_count": 192,
   "metadata": {},
   "outputs": [],
   "source": [
    "# 卡方检验结果（检验统计量卡方值，p值,自由度，期望频数）\n",
    "stat, p, dof, expected = chi2_contingency(crosstab) \n"
   ]
  },
  {
   "cell_type": "code",
   "execution_count": 193,
   "metadata": {},
   "outputs": [
    {
     "data": {
      "text/plain": [
       "0.013710360221674767"
      ]
     },
     "execution_count": 193,
     "metadata": {},
     "output_type": "execute_result"
    }
   ],
   "source": [
    "#卡方值\n",
    "stat"
   ]
  },
  {
   "cell_type": "code",
   "execution_count": 194,
   "metadata": {},
   "outputs": [
    {
     "name": "stdout",
     "output_type": "stream",
     "text": [
      "p = 0.9067877455744078\n"
     ]
    }
   ],
   "source": [
    "# p值\n",
    "print(\"p = \" + str(p))"
   ]
  },
  {
   "cell_type": "code",
   "execution_count": 24,
   "metadata": {},
   "outputs": [
    {
     "data": {
      "text/plain": [
       "<AxesSubplot:xlabel='usage', ylabel='count'>"
      ]
     },
     "execution_count": 24,
     "metadata": {},
     "output_type": "execute_result"
    },
    {
     "data": {
      "image/png": "[encoded data removed]",
      "text/plain": [
       "<Figure size 432x288 with 1 Axes>"
      ]
     },
     "metadata": {},
     "output_type": "display_data"
    }
   ],
   "source": [
    "# 卡方检验结果可视化\n",
    "sns.countplot(x = 'usage', hue = 'cet4', data = df) "
   ]
  },
  {
   "cell_type": "markdown",
   "metadata": {},
   "source": [
    "**结果解读：**\n",
    "卡方检验的结果显示“四级成绩”与“英语学习平台”**没有显著关联**（chisq=0.14,p=0.91 >0.05）。"
   ]
  },
  {
   "cell_type": "markdown",
   "metadata": {},
   "source": [
    "### 4、相关分析"
   ]
  },
  {
   "cell_type": "markdown",
   "metadata": {},
   "source": [
    "数字能力（digital_skill） & 行为投入（behav）"
   ]
  },
  {
   "cell_type": "code",
   "execution_count": 196,
   "metadata": {},
   "outputs": [
    {
     "data": {
      "text/html": [
       "<div>\n",
       "<style scoped>\n",
       "    .dataframe tbody tr th:only-of-type {\n",
       "        vertical-align: middle;\n",
       "    }\n",
       "\n",
       "    .dataframe tbody tr th {\n",
       "        vertical-align: top;\n",
       "    }\n",
       "\n",
       "    .dataframe thead th {\n",
       "        text-align: right;\n",
       "    }\n",
       "</style>\n",
       "<table border=\"1\" class=\"dataframe\">\n",
       "  <thead>\n",
       "    <tr style=\"text-align: right;\">\n",
       "      <th></th>\n",
       "      <th>X</th>\n",
       "      <th>Y</th>\n",
       "      <th>method</th>\n",
       "      <th>alternative</th>\n",
       "      <th>n</th>\n",
       "      <th>r</th>\n",
       "      <th>CI95%</th>\n",
       "      <th>p-unc</th>\n",
       "      <th>BF10</th>\n",
       "      <th>power</th>\n",
       "    </tr>\n",
       "  </thead>\n",
       "  <tbody>\n",
       "    <tr>\n",
       "      <th>0</th>\n",
       "      <td>digital_skill</td>\n",
       "      <td>behav</td>\n",
       "      <td>pearson</td>\n",
       "      <td>two-sided</td>\n",
       "      <td>29</td>\n",
       "      <td>0.153532</td>\n",
       "      <td>[-0.23, 0.49]</td>\n",
       "      <td>0.426522</td>\n",
       "      <td>0.312</td>\n",
       "      <td>0.125557</td>\n",
       "    </tr>\n",
       "  </tbody>\n",
       "</table>\n",
       "</div>"
      ],
      "text/plain": [
       "               X      Y   method alternative   n         r          CI95%  \\\n",
       "0  digital_skill  behav  pearson   two-sided  29  0.153532  [-0.23, 0.49]   \n",
       "\n",
       "      p-unc   BF10     power  \n",
       "0  0.426522  0.312  0.125557  "
      ]
     },
     "execution_count": 196,
     "metadata": {},
     "output_type": "execute_result"
    }
   ],
   "source": [
    "# 努力方式与排名的相关关系\n",
    "pg.pairwise_corr(df, columns=[\"digital_skill\",\"behav\"], method='pearson')"
   ]
  },
  {
   "cell_type": "code",
   "execution_count": 197,
   "metadata": {},
   "outputs": [
    {
     "data": {
      "text/plain": [
       "<AxesSubplot:xlabel='digital_skill', ylabel='behav'>"
      ]
     },
     "execution_count": 197,
     "metadata": {},
     "output_type": "execute_result"
    },
    {
     "data": {
      "image/png": "[encoded data removed]",
      "text/plain": [
       "<Figure size 432x288 with 1 Axes>"
      ]
     },
     "metadata": {},
     "output_type": "display_data"
    }
   ],
   "source": [
    "# 散点图（两变量）（包含拟合直线）\n",
    "sns.regplot(x = \"digital_skill\", y = \"behav\", data = df)"
   ]
  },
  {
   "cell_type": "markdown",
   "metadata": {},
   "source": [
    "**结果解读：**\n",
    "相关分析的结果显示“数字能力”与“行为投入”**没有显著相关**（r=0.15,p=0.43 > 0.05）。"
   ]
  },
  {
   "cell_type": "code",
   "execution_count": 198,
   "metadata": {},
   "outputs": [
    {
     "data": {
      "text/html": [
       "<div>\n",
       "<style scoped>\n",
       "    .dataframe tbody tr th:only-of-type {\n",
       "        vertical-align: middle;\n",
       "    }\n",
       "\n",
       "    .dataframe tbody tr th {\n",
       "        vertical-align: top;\n",
       "    }\n",
       "\n",
       "    .dataframe thead th {\n",
       "        text-align: right;\n",
       "    }\n",
       "</style>\n",
       "<table border=\"1\" class=\"dataframe\">\n",
       "  <thead>\n",
       "    <tr style=\"text-align: right;\">\n",
       "      <th></th>\n",
       "      <th>behav</th>\n",
       "      <th>cogn</th>\n",
       "      <th>emo</th>\n",
       "      <th>soc</th>\n",
       "    </tr>\n",
       "  </thead>\n",
       "  <tbody>\n",
       "    <tr>\n",
       "      <th>behav</th>\n",
       "      <td>-</td>\n",
       "      <td>***</td>\n",
       "      <td>***</td>\n",
       "      <td>***</td>\n",
       "    </tr>\n",
       "    <tr>\n",
       "      <th>cogn</th>\n",
       "      <td>0.762</td>\n",
       "      <td>-</td>\n",
       "      <td>***</td>\n",
       "      <td>***</td>\n",
       "    </tr>\n",
       "    <tr>\n",
       "      <th>emo</th>\n",
       "      <td>0.826</td>\n",
       "      <td>0.883</td>\n",
       "      <td>-</td>\n",
       "      <td>***</td>\n",
       "    </tr>\n",
       "    <tr>\n",
       "      <th>soc</th>\n",
       "      <td>0.765</td>\n",
       "      <td>0.792</td>\n",
       "      <td>0.844</td>\n",
       "      <td>-</td>\n",
       "    </tr>\n",
       "  </tbody>\n",
       "</table>\n",
       "</div>"
      ],
      "text/plain": [
       "       behav   cogn    emo  soc\n",
       "behav      -    ***    ***  ***\n",
       "cogn   0.762      -    ***  ***\n",
       "emo    0.826  0.883      -  ***\n",
       "soc    0.765  0.792  0.844    -"
      ]
     },
     "execution_count": 198,
     "metadata": {},
     "output_type": "execute_result"
    }
   ],
   "source": [
    "# 多个变量的相关分析\n",
    "df[[ \"behav\",\"cogn\",\"emo\",\"soc\"]].rcorr()"
   ]
  },
  {
   "cell_type": "code",
   "execution_count": 199,
   "metadata": {},
   "outputs": [
    {
     "data": {
      "text/plain": [
       "<seaborn.axisgrid.PairGrid at 0x1b90d6608b0>"
      ]
     },
     "execution_count": 199,
     "metadata": {},
     "output_type": "execute_result"
    },
    {
     "data": {
      "image/png": "[encoded data removed]",
      "text/plain": [
       "<Figure size 720x720 with 20 Axes>"
      ]
     },
     "metadata": {},
     "output_type": "display_data"
    }
   ],
   "source": [
    "# 筛选多个变量画出散点图（含回归直线）“矩阵”\n",
    "sns.pairplot(df[[\"behav\",\"cogn\",\"emo\",\"soc\"]], kind=\"reg\")"
   ]
  },
  {
   "cell_type": "markdown",
   "metadata": {},
   "source": [
    "**结果解读：**\n",
    "相关分析的结果显示“行为投入”、“认知投入”、“情感投入”和“社会性投入”两两之间显著相关。"
   ]
  },
  {
   "cell_type": "markdown",
   "metadata": {},
   "source": [
    "### 5、信度分析"
   ]
  },
  {
   "cell_type": "code",
   "execution_count": 200,
   "metadata": {},
   "outputs": [
    {
     "data": {
      "text/plain": [
       "0.8372900129222817"
      ]
     },
     "execution_count": 200,
     "metadata": {},
     "output_type": "execute_result"
    }
   ],
   "source": [
    "df_behav = df.filter(regex = \"^behav_.*\")#以正则表达式的办法筛选以\"behav_\"开头的变量\n",
    "pg.cronbach_alpha(data=df_behav)[0]"
   ]
  },
  {
   "cell_type": "code",
   "execution_count": 201,
   "metadata": {},
   "outputs": [
    {
     "data": {
      "text/plain": [
       "0.9382025136352856"
      ]
     },
     "execution_count": 201,
     "metadata": {},
     "output_type": "execute_result"
    }
   ],
   "source": [
    "df_cogn = df.filter(regex = \"^cogn_.*\")#以正则表达式的办法筛选以\"cogn_\"开头的变量\n",
    "pg.cronbach_alpha(data=df_cogn)[0]"
   ]
  },
  {
   "cell_type": "code",
   "execution_count": 23,
   "metadata": {},
   "outputs": [
    {
     "data": {
      "text/plain": [
       "0.6031019577930332"
      ]
     },
     "execution_count": 23,
     "metadata": {},
     "output_type": "execute_result"
    }
   ],
   "source": [
    "df_emo = df[[\"emo_1\",\"emo_2\",\"emo_3\",\"emo_4_recode\"]]\n",
    "pg.cronbach_alpha(data=df_emo)[0]"
   ]
  },
  {
   "cell_type": "code",
   "execution_count": 22,
   "metadata": {},
   "outputs": [
    {
     "data": {
      "text/plain": [
       "0.9456355283307811"
      ]
     },
     "execution_count": 22,
     "metadata": {},
     "output_type": "execute_result"
    }
   ],
   "source": [
    "df_soc = df.filter(regex = \"^soc_.*\")#以正则表达式的办法筛选以\"soc_\"开头的变量\n",
    "pg.cronbach_alpha(data=df_soc)[0]"
   ]
  },
  {
   "cell_type": "markdown",
   "metadata": {},
   "source": [
    "**结果解读：**\n",
    "“行为投入”、“认知投入”、“情感投入”和“社会性投入”等变量的克隆巴赫系数分别为0.84, 0.94, 0.60, 0.95.“行为投入”、“认知投入”和“社会性投入”的信度水平较高,“情感投入”的信度水平一般般。"
   ]
  }
 ],
 "metadata": {
  "kernelspec": {
   "display_name": "Python 3 (ipykernel)",
   "language": "python",
   "name": "python3"
  },
  "language_info": {
   "codemirror_mode": {
    "name": "ipython",
    "version": 3
   },
   "file_extension": ".py",
   "mimetype": "text/x-python",
   "name": "python",
   "nbconvert_exporter": "python",
   "pygments_lexer": "ipython3",
   "version": "3.10.9"
  },
  "vscode": {
   "interpreter": {
    "hash": "393afc36cfb9449b98f4f044686da15eb8facededbe8675c5ddfde78742b5c22"
   }
  }
 },
 "nbformat": 4,
 "nbformat_minor": 4
}
