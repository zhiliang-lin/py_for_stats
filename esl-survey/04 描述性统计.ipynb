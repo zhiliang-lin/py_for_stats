{
 "cells": [
  {
   "cell_type": "code",
   "execution_count": 43,
   "id": "1fa63bc5",
   "metadata": {},
   "outputs": [],
   "source": [
    "import numpy as np\n",
    "import pandas as pd\n",
    "import seaborn as sns\n"
   ]
  },
  {
   "cell_type": "code",
   "execution_count": 34,
   "id": "4a061ff5",
   "metadata": {},
   "outputs": [],
   "source": [
    "data = [10,12,14,15,17,18,18,24]\n"
   ]
  },
  {
   "cell_type": "markdown",
   "id": "790cee36",
   "metadata": {},
   "source": [
    "# 🐒数值型变量：集中程度"
   ]
  },
  {
   "cell_type": "markdown",
   "id": "76e066f0",
   "metadata": {},
   "source": [
    "## 平均值"
   ]
  },
  {
   "cell_type": "code",
   "execution_count": 36,
   "id": "33fa3423",
   "metadata": {},
   "outputs": [
    {
     "data": {
      "text/plain": [
       "16.0"
      ]
     },
     "execution_count": 36,
     "metadata": {},
     "output_type": "execute_result"
    }
   ],
   "source": [
    "np.mean(data)"
   ]
  },
  {
   "cell_type": "markdown",
   "id": "a057fe9c",
   "metadata": {},
   "source": [
    "## 中位数"
   ]
  },
  {
   "cell_type": "code",
   "execution_count": 37,
   "id": "a1eef486",
   "metadata": {},
   "outputs": [
    {
     "data": {
      "text/plain": [
       "16.0"
      ]
     },
     "execution_count": 37,
     "metadata": {},
     "output_type": "execute_result"
    }
   ],
   "source": [
    "np.median(data)"
   ]
  },
  {
   "cell_type": "markdown",
   "id": "b4412366",
   "metadata": {},
   "source": [
    "# 数值型变量：离散程度"
   ]
  },
  {
   "cell_type": "code",
   "execution_count": 1,
   "id": "5a2cb139",
   "metadata": {},
   "outputs": [],
   "source": []
  },
  {
   "cell_type": "markdown",
   "id": "d848b2f8",
   "metadata": {},
   "source": [
    "## 方差"
   ]
  },
  {
   "cell_type": "markdown",
   "id": "49f92105",
   "metadata": {},
   "source": [
    "总体方差公式：$$ \\sigma ^{2}= \\frac{\\sum _{i=1}^{N}(X_{i}- \\mu)^{2}}{N}$$"
   ]
  },
  {
   "cell_type": "code",
   "execution_count": 41,
   "id": "e6d33cdd",
   "metadata": {},
   "outputs": [
    {
     "data": {
      "text/plain": [
       "16.25"
      ]
     },
     "execution_count": 41,
     "metadata": {},
     "output_type": "execute_result"
    }
   ],
   "source": [
    "np.var(data,ddof=0)#总体方差"
   ]
  },
  {
   "cell_type": "markdown",
   "id": "54db53e1-c3d7-46a1-bb9f-ec4f47a1b6a0",
   "metadata": {},
   "source": [
    "样本方差公式：\n",
    "$$S ^ { 2 } = \\frac { \\sum _ { i = 1 } ^ { n } ( X _ { i } - \\bar{X} ) ^ { 2 } } { n - 1 }$$"
   ]
  },
  {
   "cell_type": "code",
   "execution_count": 42,
   "id": "eb1f7ecf",
   "metadata": {},
   "outputs": [
    {
     "data": {
      "text/plain": [
       "18.571428571428573"
      ]
     },
     "execution_count": 42,
     "metadata": {},
     "output_type": "execute_result"
    }
   ],
   "source": [
    "np.var(data,ddof=1)"
   ]
  },
  {
   "cell_type": "markdown",
   "id": "158739bc",
   "metadata": {},
   "source": [
    "## 标准差"
   ]
  },
  {
   "cell_type": "markdown",
   "id": "d703a4aa",
   "metadata": {},
   "source": [
    "总体标准差公式：$$ \\sigma = \\sqrt{\\frac{\\sum _{i=1}^{N}(X_{i}- \\mu)^{2}}{N}}$$"
   ]
  },
  {
   "cell_type": "code",
   "execution_count": 45,
   "id": "2f5d0b32",
   "metadata": {},
   "outputs": [
    {
     "data": {
      "text/plain": [
       "4.031128874149275"
      ]
     },
     "execution_count": 45,
     "metadata": {},
     "output_type": "execute_result"
    }
   ],
   "source": [
    "np.std(data,ddof=0)"
   ]
  },
  {
   "cell_type": "markdown",
   "id": "a75a3d1d-e30b-475e-9319-82f49340d324",
   "metadata": {},
   "source": [
    "样本标准差公式：\n",
    "\n",
    "$$S = \\sqrt { \\frac { \\sum _ { i = 1 } ^ { n } ( X _ { i } - \\bar{X} ) ^ { 2 } } { n - 1 } }$$"
   ]
  },
  {
   "cell_type": "code",
   "execution_count": 44,
   "id": "77d91582",
   "metadata": {},
   "outputs": [
    {
     "data": {
      "text/plain": [
       "4.3094580368566735"
      ]
     },
     "execution_count": 44,
     "metadata": {},
     "output_type": "execute_result"
    }
   ],
   "source": [
    "np.std(data,ddof=1)"
   ]
  },
  {
   "cell_type": "markdown",
   "id": "9477fca9",
   "metadata": {},
   "source": [
    "# 🦙数据可视化"
   ]
  },
  {
   "cell_type": "code",
   "execution_count": 12,
   "id": "3fc9697f",
   "metadata": {},
   "outputs": [],
   "source": [
    "url = \"https://raw.githubusercontent.com/zhiliang-lin/survey_and_stats/main/sati-survey/data/inm.xlsx\"\n",
    "\n",
    "df = pd.read_excel(url)"
   ]
  },
  {
   "cell_type": "markdown",
   "id": "d32250db",
   "metadata": {},
   "source": [
    "## 类别型变量：饼状图"
   ]
  },
  {
   "cell_type": "code",
   "execution_count": 23,
   "id": "353bb641",
   "metadata": {},
   "outputs": [],
   "source": [
    "df.location = df.location.astype(\"category\")\n",
    "df.gender = df.gender.astype(\"category\")"
   ]
  },
  {
   "cell_type": "code",
   "execution_count": 31,
   "id": "7dd42b4b",
   "metadata": {},
   "outputs": [
    {
     "data": {
      "text/plain": [
       "2    64\n",
       "1    16\n",
       "Name: gender, dtype: int64"
      ]
     },
     "execution_count": 31,
     "metadata": {},
     "output_type": "execute_result"
    }
   ],
   "source": [
    "table_gender = df.gender.value_counts()\n",
    "table_gender"
   ]
  },
  {
   "cell_type": "code",
   "execution_count": 32,
   "id": "3973be3b",
   "metadata": {},
   "outputs": [
    {
     "data": {
      "text/plain": [
       "<AxesSubplot:ylabel='gender'>"
      ]
     },
     "execution_count": 32,
     "metadata": {},
     "output_type": "execute_result"
    },
    {
     "data": {
      "image/png": "[encoded data removed]",
      "text/plain": [
       "<Figure size 432x288 with 1 Axes>"
      ]
     },
     "metadata": {},
     "output_type": "display_data"
    }
   ],
   "source": [
    "table_gender.plot.pie()"
   ]
  },
  {
   "cell_type": "markdown",
   "id": "f9992d5a",
   "metadata": {},
   "source": [
    "## 类别型变量：条形图"
   ]
  },
  {
   "cell_type": "code",
   "execution_count": 22,
   "id": "dc609ff1",
   "metadata": {},
   "outputs": [
    {
     "data": {
      "text/plain": [
       "<AxesSubplot:xlabel='location', ylabel='count'>"
      ]
     },
     "execution_count": 22,
     "metadata": {},
     "output_type": "execute_result"
    },
    {
     "data": {
      "image/png": "[encoded data removed]",
      "text/plain": [
       "<Figure size 432x288 with 1 Axes>"
      ]
     },
     "metadata": {
      "needs_background": "light"
     },
     "output_type": "display_data"
    }
   ],
   "source": [
    "sns.countplot(x = \"location\",data = df)"
   ]
  },
  {
   "cell_type": "markdown",
   "id": "94cafa42",
   "metadata": {},
   "source": [
    "## 数值型变量:直方图"
   ]
  },
  {
   "cell_type": "code",
   "execution_count": 29,
   "id": "1496f7fd",
   "metadata": {},
   "outputs": [
    {
     "data": {
      "text/plain": [
       "<AxesSubplot:xlabel='effort_overall', ylabel='Count'>"
      ]
     },
     "execution_count": 29,
     "metadata": {},
     "output_type": "execute_result"
    },
    {
     "data": {
      "image/png": "[encoded data removed]",
      "text/plain": [
       "<Figure size 432x288 with 1 Axes>"
      ]
     },
     "metadata": {
      "needs_background": "light"
     },
     "output_type": "display_data"
    }
   ],
   "source": [
    "sns.histplot(x = \"effort_overall\",data=df)"
   ]
  },
  {
   "cell_type": "code",
   "execution_count": null,
   "id": "81cdeade",
   "metadata": {},
   "outputs": [],
   "source": []
  }
 ],
 "metadata": {
  "kernelspec": {
   "display_name": "Python 3 (ipykernel)",
   "language": "python",
   "name": "python3"
  },
  "language_info": {
   "codemirror_mode": {
    "name": "ipython",
    "version": 3
   },
   "file_extension": ".py",
   "mimetype": "text/x-python",
   "name": "python",
   "nbconvert_exporter": "python",
   "pygments_lexer": "ipython3",
   "version": "3.10.9"
  },
  "vscode": {
   "interpreter": {
    "hash": "393afc36cfb9449b98f4f044686da15eb8facededbe8675c5ddfde78742b5c22"
   }
  }
 },
 "nbformat": 4,
 "nbformat_minor": 5
}
