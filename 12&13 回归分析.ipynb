{
 "cells": [
  {
   "cell_type": "code",
   "execution_count": 1,
   "metadata": {},
   "outputs": [],
   "source": [
    "import pandas as pd\n",
    "import statsmodels.formula.api as smf # 回归分析"
   ]
  },
  {
   "cell_type": "markdown",
   "metadata": {},
   "source": [
    "# 身高与体重的例子"
   ]
  },
  {
   "cell_type": "markdown",
   "metadata": {},
   "source": [
    "有五位学生，他们的身高分别是152、158、165、172、180厘米；体重分别是43、48、54、63、80公斤。以身高作为自变量、体重作为因变量做回归分析并做显著性检验。"
   ]
  },
  {
   "cell_type": "code",
   "execution_count": 2,
   "metadata": {},
   "outputs": [],
   "source": [
    "df = pd.DataFrame(\n",
    "{\"hight\" : [152, 158, 165, 172, 180],\n",
    "\"weight\" : [43, 48, 54, 63, 80]\n",
    "})"
   ]
  },
  {
   "cell_type": "code",
   "execution_count": 6,
   "metadata": {},
   "outputs": [
    {
     "name": "stderr",
     "output_type": "stream",
     "text": [
      "e:\\installation\\Anaconda\\lib\\site-packages\\statsmodels\\stats\\stattools.py:74: ValueWarning: omni_normtest is not valid with less than 8 observations; 5 samples were given.\n",
      "  warn(\"omni_normtest is not valid with less than 8 observations; %i \"\n"
     ]
    },
    {
     "data": {
      "text/html": [
       "<table class=\"simpletable\">\n",
       "<caption>OLS Regression Results</caption>\n",
       "<tr>\n",
       "  <th>Dep. Variable:</th>         <td>weight</td>      <th>  R-squared:         </th> <td>   0.954</td>\n",
       "</tr>\n",
       "<tr>\n",
       "  <th>Model:</th>                   <td>OLS</td>       <th>  Adj. R-squared:    </th> <td>   0.939</td>\n",
       "</tr>\n",
       "<tr>\n",
       "  <th>Method:</th>             <td>Least Squares</td>  <th>  F-statistic:       </th> <td>   62.11</td>\n",
       "</tr>\n",
       "<tr>\n",
       "  <th>Date:</th>             <td>Wed, 30 Nov 2022</td> <th>  Prob (F-statistic):</th>  <td>0.00426</td>\n",
       "</tr>\n",
       "<tr>\n",
       "  <th>Time:</th>                 <td>00:41:33</td>     <th>  Log-Likelihood:    </th> <td> -12.238</td>\n",
       "</tr>\n",
       "<tr>\n",
       "  <th>No. Observations:</th>      <td>     5</td>      <th>  AIC:               </th> <td>   28.48</td>\n",
       "</tr>\n",
       "<tr>\n",
       "  <th>Df Residuals:</th>          <td>     3</td>      <th>  BIC:               </th> <td>   27.69</td>\n",
       "</tr>\n",
       "<tr>\n",
       "  <th>Df Model:</th>              <td>     1</td>      <th>                     </th>     <td> </td>   \n",
       "</tr>\n",
       "<tr>\n",
       "  <th>Covariance Type:</th>      <td>nonrobust</td>    <th>                     </th>     <td> </td>   \n",
       "</tr>\n",
       "</table>\n",
       "<table class=\"simpletable\">\n",
       "<tr>\n",
       "      <td></td>         <th>coef</th>     <th>std err</th>      <th>t</th>      <th>P>|t|</th>  <th>[0.025</th>    <th>0.975]</th>  \n",
       "</tr>\n",
       "<tr>\n",
       "  <th>Intercept</th> <td> -154.8070</td> <td>   26.999</td> <td>   -5.734</td> <td> 0.011</td> <td> -240.731</td> <td>  -68.883</td>\n",
       "</tr>\n",
       "<tr>\n",
       "  <th>hight</th>     <td>    1.2842</td> <td>    0.163</td> <td>    7.881</td> <td> 0.004</td> <td>    0.766</td> <td>    1.803</td>\n",
       "</tr>\n",
       "</table>\n",
       "<table class=\"simpletable\">\n",
       "<tr>\n",
       "  <th>Omnibus:</th>       <td>   nan</td> <th>  Durbin-Watson:     </th> <td>   1.572</td>\n",
       "</tr>\n",
       "<tr>\n",
       "  <th>Prob(Omnibus):</th> <td>   nan</td> <th>  Jarque-Bera (JB):  </th> <td>   0.592</td>\n",
       "</tr>\n",
       "<tr>\n",
       "  <th>Skew:</th>          <td> 0.072</td> <th>  Prob(JB):          </th> <td>   0.744</td>\n",
       "</tr>\n",
       "<tr>\n",
       "  <th>Kurtosis:</th>      <td> 1.320</td> <th>  Cond. No.          </th> <td>2.77e+03</td>\n",
       "</tr>\n",
       "</table><br/><br/>Notes:<br/>[1] Standard Errors assume that the covariance matrix of the errors is correctly specified.<br/>[2] The condition number is large, 2.77e+03. This might indicate that there are<br/>strong multicollinearity or other numerical problems."
      ],
      "text/plain": [
       "<class 'statsmodels.iolib.summary.Summary'>\n",
       "\"\"\"\n",
       "                            OLS Regression Results                            \n",
       "==============================================================================\n",
       "Dep. Variable:                 weight   R-squared:                       0.954\n",
       "Model:                            OLS   Adj. R-squared:                  0.939\n",
       "Method:                 Least Squares   F-statistic:                     62.11\n",
       "Date:                Wed, 30 Nov 2022   Prob (F-statistic):            0.00426\n",
       "Time:                        00:41:33   Log-Likelihood:                -12.238\n",
       "No. Observations:                   5   AIC:                             28.48\n",
       "Df Residuals:                       3   BIC:                             27.69\n",
       "Df Model:                           1                                         \n",
       "Covariance Type:            nonrobust                                         \n",
       "==============================================================================\n",
       "                 coef    std err          t      P>|t|      [0.025      0.975]\n",
       "------------------------------------------------------------------------------\n",
       "Intercept   -154.8070     26.999     -5.734      0.011    -240.731     -68.883\n",
       "hight          1.2842      0.163      7.881      0.004       0.766       1.803\n",
       "==============================================================================\n",
       "Omnibus:                          nan   Durbin-Watson:                   1.572\n",
       "Prob(Omnibus):                    nan   Jarque-Bera (JB):                0.592\n",
       "Skew:                           0.072   Prob(JB):                        0.744\n",
       "Kurtosis:                       1.320   Cond. No.                     2.77e+03\n",
       "==============================================================================\n",
       "\n",
       "Notes:\n",
       "[1] Standard Errors assume that the covariance matrix of the errors is correctly specified.\n",
       "[2] The condition number is large, 2.77e+03. This might indicate that there are\n",
       "strong multicollinearity or other numerical problems.\n",
       "\"\"\""
      ]
     },
     "execution_count": 6,
     "metadata": {},
     "output_type": "execute_result"
    }
   ],
   "source": [
    "df_model = smf.ols(\"weight ~ hight\",data=df).fit() \n",
    "#ols:OLS回归\n",
    "#\"weight ~ hight\" ：回归方程表达式，因变量 ~ 自变量\n",
    "# .fit : fit the model\n",
    "\n",
    "df_model.summary()"
   ]
  },
  {
   "attachments": {},
   "cell_type": "markdown",
   "metadata": {},
   "source": [
    "Dep. Variable:\tweight\t 因变量\n",
    "R-squared:\t0.954  R方\n",
    "Model:\tOLS\t       OLS回归\n",
    "Adj. R-squared:\t0.939 调整后的R方\n",
    "F-statistic:\t62.11  F值\n",
    "Prob (F-statistic):\t0.00426 F检验的p值（判断模型是否有统计学意义）\n",
    "\n",
    "\n",
    "\n",
    "coef\tstd err\tt\tP>|t|\t[0.025\t0.975]\n",
    "Intercept（截距）\t-154.8070\t26.999\t-5.734\t0.011\t-240.731\t-68.883\n",
    "回归系数：hight\t1.2842\t0.163\t7.881\t0.004\t0.766\t1.803\n"
   ]
  },
  {
   "cell_type": "markdown",
   "metadata": {},
   "source": [
    "# 馅饼销量"
   ]
  },
  {
   "cell_type": "markdown",
   "metadata": {},
   "source": [
    "## 多个自变量"
   ]
  },
  {
   "cell_type": "code",
   "execution_count": 8,
   "metadata": {},
   "outputs": [],
   "source": [
    "df_pie = pd.DataFrame(\n",
    "    {\n",
    "        \"weeks\":[1, 2, 3, 4, 5, 6, 7, 8, 9, 10, 11, 12, 13, 14, 15],\n",
    "        \"sales\":[350, 460, 350, 430, 350, 380, 430, 470, 450, 490, 340, 300, 440, 450, 300],\n",
    "        \"price\":[5.5, 7.5, 8, 8, 6.8, 7.5, 4.5, 6.4, 7, 5, 7.2, 7.9, 5.9, 5, 7],\n",
    "        \"advertisement\":[3.3, 3.3, 3, 4.5, 3, 4, 3, 3.7, 3.5, 4, 3.5, 3.2, 4, 3.5, 2.7]\n",
    "    })\n"
   ]
  },
  {
   "cell_type": "code",
   "execution_count": 9,
   "metadata": {},
   "outputs": [
    {
     "name": "stderr",
     "output_type": "stream",
     "text": [
      "e:\\installation\\Anaconda\\lib\\site-packages\\scipy\\stats\\stats.py:1541: UserWarning: kurtosistest only valid for n>=20 ... continuing anyway, n=15\n",
      "  warnings.warn(\"kurtosistest only valid for n>=20 ... continuing \"\n"
     ]
    },
    {
     "data": {
      "text/html": [
       "<table class=\"simpletable\">\n",
       "<caption>OLS Regression Results</caption>\n",
       "<tr>\n",
       "  <th>Dep. Variable:</th>          <td>sales</td>      <th>  R-squared:         </th> <td>   0.521</td>\n",
       "</tr>\n",
       "<tr>\n",
       "  <th>Model:</th>                   <td>OLS</td>       <th>  Adj. R-squared:    </th> <td>   0.442</td>\n",
       "</tr>\n",
       "<tr>\n",
       "  <th>Method:</th>             <td>Least Squares</td>  <th>  F-statistic:       </th> <td>   6.539</td>\n",
       "</tr>\n",
       "<tr>\n",
       "  <th>Date:</th>             <td>Thu, 17 Nov 2022</td> <th>  Prob (F-statistic):</th>  <td>0.0120</td> \n",
       "</tr>\n",
       "<tr>\n",
       "  <th>Time:</th>                 <td>00:14:24</td>     <th>  Log-Likelihood:    </th> <td> -77.510</td>\n",
       "</tr>\n",
       "<tr>\n",
       "  <th>No. Observations:</th>      <td>    15</td>      <th>  AIC:               </th> <td>   161.0</td>\n",
       "</tr>\n",
       "<tr>\n",
       "  <th>Df Residuals:</th>          <td>    12</td>      <th>  BIC:               </th> <td>   163.1</td>\n",
       "</tr>\n",
       "<tr>\n",
       "  <th>Df Model:</th>              <td>     2</td>      <th>                     </th>     <td> </td>   \n",
       "</tr>\n",
       "<tr>\n",
       "  <th>Covariance Type:</th>      <td>nonrobust</td>    <th>                     </th>     <td> </td>   \n",
       "</tr>\n",
       "</table>\n",
       "<table class=\"simpletable\">\n",
       "<tr>\n",
       "        <td></td>           <th>coef</th>     <th>std err</th>      <th>t</th>      <th>P>|t|</th>  <th>[0.025</th>    <th>0.975]</th>  \n",
       "</tr>\n",
       "<tr>\n",
       "  <th>Intercept</th>     <td>  306.5262</td> <td>  114.254</td> <td>    2.683</td> <td> 0.020</td> <td>   57.588</td> <td>  555.464</td>\n",
       "</tr>\n",
       "<tr>\n",
       "  <th>price</th>         <td>  -24.9751</td> <td>   10.832</td> <td>   -2.306</td> <td> 0.040</td> <td>  -48.576</td> <td>   -1.374</td>\n",
       "</tr>\n",
       "<tr>\n",
       "  <th>advertisement</th> <td>   74.1310</td> <td>   25.967</td> <td>    2.855</td> <td> 0.014</td> <td>   17.553</td> <td>  130.709</td>\n",
       "</tr>\n",
       "</table>\n",
       "<table class=\"simpletable\">\n",
       "<tr>\n",
       "  <th>Omnibus:</th>       <td> 1.505</td> <th>  Durbin-Watson:     </th> <td>   1.683</td>\n",
       "</tr>\n",
       "<tr>\n",
       "  <th>Prob(Omnibus):</th> <td> 0.471</td> <th>  Jarque-Bera (JB):  </th> <td>   0.937</td>\n",
       "</tr>\n",
       "<tr>\n",
       "  <th>Skew:</th>          <td> 0.595</td> <th>  Prob(JB):          </th> <td>   0.626</td>\n",
       "</tr>\n",
       "<tr>\n",
       "  <th>Kurtosis:</th>      <td> 2.709</td> <th>  Cond. No.          </th> <td>    72.2</td>\n",
       "</tr>\n",
       "</table><br/><br/>Notes:<br/>[1] Standard Errors assume that the covariance matrix of the errors is correctly specified."
      ],
      "text/plain": [
       "<class 'statsmodels.iolib.summary.Summary'>\n",
       "\"\"\"\n",
       "                            OLS Regression Results                            \n",
       "==============================================================================\n",
       "Dep. Variable:                  sales   R-squared:                       0.521\n",
       "Model:                            OLS   Adj. R-squared:                  0.442\n",
       "Method:                 Least Squares   F-statistic:                     6.539\n",
       "Date:                Thu, 17 Nov 2022   Prob (F-statistic):             0.0120\n",
       "Time:                        00:14:24   Log-Likelihood:                -77.510\n",
       "No. Observations:                  15   AIC:                             161.0\n",
       "Df Residuals:                      12   BIC:                             163.1\n",
       "Df Model:                           2                                         \n",
       "Covariance Type:            nonrobust                                         \n",
       "=================================================================================\n",
       "                    coef    std err          t      P>|t|      [0.025      0.975]\n",
       "---------------------------------------------------------------------------------\n",
       "Intercept       306.5262    114.254      2.683      0.020      57.588     555.464\n",
       "price           -24.9751     10.832     -2.306      0.040     -48.576      -1.374\n",
       "advertisement    74.1310     25.967      2.855      0.014      17.553     130.709\n",
       "==============================================================================\n",
       "Omnibus:                        1.505   Durbin-Watson:                   1.683\n",
       "Prob(Omnibus):                  0.471   Jarque-Bera (JB):                0.937\n",
       "Skew:                           0.595   Prob(JB):                        0.626\n",
       "Kurtosis:                       2.709   Cond. No.                         72.2\n",
       "==============================================================================\n",
       "\n",
       "Notes:\n",
       "[1] Standard Errors assume that the covariance matrix of the errors is correctly specified.\n",
       "\"\"\""
      ]
     },
     "execution_count": 9,
     "metadata": {},
     "output_type": "execute_result"
    }
   ],
   "source": [
    "pie_model = smf.ols(\"sales ~ price + advertisement\",data=df_pie).fit()\n",
    "\n",
    "#多个自变量，自变量之间之间用“+”\n",
    "pie_model.summary()"
   ]
  },
  {
   "cell_type": "markdown",
   "metadata": {},
   "source": [
    "## 自变量出现类别变量"
   ]
  },
  {
   "cell_type": "code",
   "execution_count": 18,
   "metadata": {},
   "outputs": [],
   "source": [
    "df_pie2 = pd.DataFrame(\n",
    "    {\n",
    "        \"weeks\":[1, 2, 3, 4, 5, 6, 7, 8, 9, 10, 11, 12, 13, 14, 15],\n",
    "        \"sales\":[350, 460, 350, 430, 350, 380, 430, 470, 450, 490, 340, 300, 440, 450, 300],\n",
    "        \"price\":[5.5, 7.5, 8, 8, 6.8, 7.5, 4.5, 6.4, 7, 5, 7.2, 7.9, 5.9, 5, 7],\n",
    "        \"holiday\":[0]*12 + [1]*3\n",
    "    })\n"
   ]
  },
  {
   "cell_type": "code",
   "execution_count": 19,
   "metadata": {},
   "outputs": [],
   "source": [
    "df_pie2.holiday = df_pie2.holiday.astype(\"category\")"
   ]
  },
  {
   "cell_type": "code",
   "execution_count": 20,
   "metadata": {},
   "outputs": [
    {
     "name": "stderr",
     "output_type": "stream",
     "text": [
      "e:\\installation\\Anaconda\\lib\\site-packages\\scipy\\stats\\_stats_py.py:1772: UserWarning: kurtosistest only valid for n>=20 ... continuing anyway, n=15\n",
      "  warnings.warn(\"kurtosistest only valid for n>=20 ... continuing \"\n"
     ]
    },
    {
     "data": {
      "text/html": [
       "<table class=\"simpletable\">\n",
       "<caption>OLS Regression Results</caption>\n",
       "<tr>\n",
       "  <th>Dep. Variable:</th>          <td>sales</td>      <th>  R-squared:         </th> <td>   0.220</td>\n",
       "</tr>\n",
       "<tr>\n",
       "  <th>Model:</th>                   <td>OLS</td>       <th>  Adj. R-squared:    </th> <td>   0.091</td>\n",
       "</tr>\n",
       "<tr>\n",
       "  <th>Method:</th>             <td>Least Squares</td>  <th>  F-statistic:       </th> <td>   1.697</td>\n",
       "</tr>\n",
       "<tr>\n",
       "  <th>Date:</th>             <td>Thu, 01 Dec 2022</td> <th>  Prob (F-statistic):</th>  <td> 0.224</td> \n",
       "</tr>\n",
       "<tr>\n",
       "  <th>Time:</th>                 <td>01:46:05</td>     <th>  Log-Likelihood:    </th> <td> -81.170</td>\n",
       "</tr>\n",
       "<tr>\n",
       "  <th>No. Observations:</th>      <td>    15</td>      <th>  AIC:               </th> <td>   168.3</td>\n",
       "</tr>\n",
       "<tr>\n",
       "  <th>Df Residuals:</th>          <td>    12</td>      <th>  BIC:               </th> <td>   170.5</td>\n",
       "</tr>\n",
       "<tr>\n",
       "  <th>Df Model:</th>              <td>     2</td>      <th>                     </th>     <td> </td>   \n",
       "</tr>\n",
       "<tr>\n",
       "  <th>Covariance Type:</th>      <td>nonrobust</td>    <th>                     </th>     <td> </td>   \n",
       "</tr>\n",
       "</table>\n",
       "<table class=\"simpletable\">\n",
       "<tr>\n",
       "        <td></td>          <th>coef</th>     <th>std err</th>      <th>t</th>      <th>P>|t|</th>  <th>[0.025</th>    <th>0.975]</th>  \n",
       "</tr>\n",
       "<tr>\n",
       "  <th>Intercept</th>    <td>  579.7795</td> <td>   99.249</td> <td>    5.842</td> <td> 0.000</td> <td>  363.535</td> <td>  796.024</td>\n",
       "</tr>\n",
       "<tr>\n",
       "  <th>holiday[T.1]</th> <td>  -24.7830</td> <td>   40.804</td> <td>   -0.607</td> <td> 0.555</td> <td> -113.688</td> <td>   64.122</td>\n",
       "</tr>\n",
       "<tr>\n",
       "  <th>price</th>        <td>  -26.5357</td> <td>   14.420</td> <td>   -1.840</td> <td> 0.091</td> <td>  -57.954</td> <td>    4.883</td>\n",
       "</tr>\n",
       "</table>\n",
       "<table class=\"simpletable\">\n",
       "<tr>\n",
       "  <th>Omnibus:</th>       <td> 5.237</td> <th>  Durbin-Watson:     </th> <td>   2.211</td>\n",
       "</tr>\n",
       "<tr>\n",
       "  <th>Prob(Omnibus):</th> <td> 0.073</td> <th>  Jarque-Bera (JB):  </th> <td>   1.435</td>\n",
       "</tr>\n",
       "<tr>\n",
       "  <th>Skew:</th>          <td>-0.096</td> <th>  Prob(JB):          </th> <td>   0.488</td>\n",
       "</tr>\n",
       "<tr>\n",
       "  <th>Kurtosis:</th>      <td> 1.497</td> <th>  Cond. No.          </th> <td>    44.0</td>\n",
       "</tr>\n",
       "</table><br/><br/>Notes:<br/>[1] Standard Errors assume that the covariance matrix of the errors is correctly specified."
      ],
      "text/plain": [
       "<class 'statsmodels.iolib.summary.Summary'>\n",
       "\"\"\"\n",
       "                            OLS Regression Results                            \n",
       "==============================================================================\n",
       "Dep. Variable:                  sales   R-squared:                       0.220\n",
       "Model:                            OLS   Adj. R-squared:                  0.091\n",
       "Method:                 Least Squares   F-statistic:                     1.697\n",
       "Date:                Thu, 01 Dec 2022   Prob (F-statistic):              0.224\n",
       "Time:                        01:46:05   Log-Likelihood:                -81.170\n",
       "No. Observations:                  15   AIC:                             168.3\n",
       "Df Residuals:                      12   BIC:                             170.5\n",
       "Df Model:                           2                                         \n",
       "Covariance Type:            nonrobust                                         \n",
       "================================================================================\n",
       "                   coef    std err          t      P>|t|      [0.025      0.975]\n",
       "--------------------------------------------------------------------------------\n",
       "Intercept      579.7795     99.249      5.842      0.000     363.535     796.024\n",
       "holiday[T.1]   -24.7830     40.804     -0.607      0.555    -113.688      64.122\n",
       "price          -26.5357     14.420     -1.840      0.091     -57.954       4.883\n",
       "==============================================================================\n",
       "Omnibus:                        5.237   Durbin-Watson:                   2.211\n",
       "Prob(Omnibus):                  0.073   Jarque-Bera (JB):                1.435\n",
       "Skew:                          -0.096   Prob(JB):                        0.488\n",
       "Kurtosis:                       1.497   Cond. No.                         44.0\n",
       "==============================================================================\n",
       "\n",
       "Notes:\n",
       "[1] Standard Errors assume that the covariance matrix of the errors is correctly specified.\n",
       "\"\"\""
      ]
     },
     "execution_count": 20,
     "metadata": {},
     "output_type": "execute_result"
    }
   ],
   "source": [
    "pie2_model = smf.ols(\"sales ~ price + holiday\",data=df_pie2).fit()\n",
    "\n",
    "pie2_model.summary()"
   ]
  },
  {
   "cell_type": "code",
   "execution_count": null,
   "metadata": {},
   "outputs": [],
   "source": []
  }
 ],
 "metadata": {
  "kernelspec": {
   "display_name": "Python 3 (ipykernel)",
   "language": "python",
   "name": "python3"
  },
  "language_info": {
   "codemirror_mode": {
    "name": "ipython",
    "version": 3
   },
   "file_extension": ".py",
   "mimetype": "text/x-python",
   "name": "python",
   "nbconvert_exporter": "python",
   "pygments_lexer": "ipython3",
   "version": "3.9.7 (default, Sep 16 2021, 16:59:28) [MSC v.1916 64 bit (AMD64)]"
  },
  "vscode": {
   "interpreter": {
    "hash": "393afc36cfb9449b98f4f044686da15eb8facededbe8675c5ddfde78742b5c22"
   }
  }
 },
 "nbformat": 4,
 "nbformat_minor": 4
}
