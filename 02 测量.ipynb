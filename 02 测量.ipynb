{
 "cells": [
  {
   "cell_type": "code",
   "execution_count": null,
   "metadata": {},
   "outputs": [],
   "source": []
  },
  {
   "cell_type": "markdown",
   "id": "efac864c",
   "metadata": {},
   "source": [
    "## 类别型变量"
   ]
  },
  {
   "cell_type": "markdown",
   "id": "0337eaa6",
   "metadata": {},
   "source": [
    "## 数值型变量"
   ]
  },
  {
   "cell_type": "markdown",
   "id": "53d7c1a5",
   "metadata": {},
   "source": [
    "# 信度"
   ]
  },
  {
   "cell_type": "markdown",
   "id": "5625ebc2",
   "metadata": {},
   "source": []
  }
 ],
 "metadata": {
  "kernelspec": {
   "display_name": "Python 3.9.7 ('base')",
   "language": "python",
   "name": "python3"
  },
  "language_info": {
   "codemirror_mode": {
    "name": "ipython",
    "version": 3
   },
   "file_extension": ".py",
   "mimetype": "text/x-python",
   "name": "python",
   "nbconvert_exporter": "python",
   "pygments_lexer": "ipython3",
   "version": "3.9.7"
  },
  "vscode": {
   "interpreter": {
    "hash": "393afc36cfb9449b98f4f044686da15eb8facededbe8675c5ddfde78742b5c22"
   }
  }
 },
 "nbformat": 4,
 "nbformat_minor": 5
}
