{
 "cells": [
  {
   "cell_type": "code",
   "execution_count": 1,
   "id": "0bf15119-7a45-48e1-bcf0-02867fe1011a",
   "metadata": {},
   "outputs": [],
   "source": [
    "# 整理数据的库\n",
    "import pandas as pd\n",
    "# 数据可视化的库\n",
    "\n",
    "import seaborn as sns\n",
    "\n",
    "import pingouin as pg\n",
    "# 其它\n",
    "import warnings\n",
    "warnings.filterwarnings('ignore') #忽视警告"
   ]
  },
  {
   "cell_type": "markdown",
   "id": "fc0061e8",
   "metadata": {},
   "source": [
    "# 身高与体重的例子"
   ]
  },
  {
   "cell_type": "code",
   "execution_count": 2,
   "id": "a1eef486",
   "metadata": {},
   "outputs": [],
   "source": [
    "df = pd.DataFrame(\n",
    "{\"身高\" : [152, 158, 165, 172, 180],\n",
    "\"体重\" : [43, 48, 54, 63, 80]\n",
    "})"
   ]
  },
  {
   "cell_type": "markdown",
   "id": "e022702e",
   "metadata": {},
   "source": [
    "## 散点图"
   ]
  },
  {
   "cell_type": "code",
   "execution_count": 3,
   "id": "61bab285",
   "metadata": {},
   "outputs": [
    {
     "data": {
      "text/plain": [
       "<AxesSubplot:xlabel='身高', ylabel='体重'>"
      ]
     },
     "execution_count": 3,
     "metadata": {},
     "output_type": "execute_result"
    },
    {
     "data": {
      "image/png": "[encoded data removed]",
      "text/plain": [
       "<Figure size 432x288 with 1 Axes>"
      ]
     },
     "metadata": {},
     "output_type": "display_data"
    }
   ],
   "source": [
    "sns.regplot(x = \"身高\", y = \"体重\", data = df)"
   ]
  },
  {
   "cell_type": "markdown",
   "id": "579e3aab",
   "metadata": {},
   "source": [
    "## 计算相关系数"
   ]
  },
  {
   "cell_type": "markdown",
   "id": "2e4dd7fc",
   "metadata": {},
   "source": [
    "样本相关系数计算公式：\n",
    "$$r= \\frac{cov(X,Y)}{S_{X}S_{Y}}$$\n",
    "\n",
    "其中，$$cov ( X , Y ) = \\frac { \\sum _ { i= 1 } ^ { n } ( X _ { 1 } - \\bar { X } ) ( Y _ { i } - \\bar { Y } ) } { n - 1 }$$"
   ]
  },
  {
   "cell_type": "code",
   "execution_count": 4,
   "id": "db3fc2b2",
   "metadata": {},
   "outputs": [
    {
     "data": {
      "text/html": [
       "<div>\n",
       "<style scoped>\n",
       "    .dataframe tbody tr th:only-of-type {\n",
       "        vertical-align: middle;\n",
       "    }\n",
       "\n",
       "    .dataframe tbody tr th {\n",
       "        vertical-align: top;\n",
       "    }\n",
       "\n",
       "    .dataframe thead th {\n",
       "        text-align: right;\n",
       "    }\n",
       "</style>\n",
       "<table border=\"1\" class=\"dataframe\">\n",
       "  <thead>\n",
       "    <tr style=\"text-align: right;\">\n",
       "      <th></th>\n",
       "      <th>X</th>\n",
       "      <th>Y</th>\n",
       "      <th>method</th>\n",
       "      <th>alternative</th>\n",
       "      <th>n</th>\n",
       "      <th>r</th>\n",
       "      <th>CI95%</th>\n",
       "      <th>p-unc</th>\n",
       "      <th>BF10</th>\n",
       "      <th>power</th>\n",
       "    </tr>\n",
       "  </thead>\n",
       "  <tbody>\n",
       "    <tr>\n",
       "      <th>0</th>\n",
       "      <td>身高</td>\n",
       "      <td>体重</td>\n",
       "      <td>pearson</td>\n",
       "      <td>two-sided</td>\n",
       "      <td>5</td>\n",
       "      <td>0.976692</td>\n",
       "      <td>[0.68, 1.0]</td>\n",
       "      <td>0.004257</td>\n",
       "      <td>8.915</td>\n",
       "      <td>0.915773</td>\n",
       "    </tr>\n",
       "  </tbody>\n",
       "</table>\n",
       "</div>"
      ],
      "text/plain": [
       "    X   Y   method alternative  n         r        CI95%     p-unc   BF10  \\\n",
       "0  身高  体重  pearson   two-sided  5  0.976692  [0.68, 1.0]  0.004257  8.915   \n",
       "\n",
       "      power  \n",
       "0  0.915773  "
      ]
     },
     "execution_count": 4,
     "metadata": {},
     "output_type": "execute_result"
    }
   ],
   "source": [
    "pg.pairwise_corr(df, columns=[\"身高\",\"体重\"], method='pearson')\n",
    "#也可以同时分析多个变量两两之间的相关关系； \n",
    "# method='pearson' :计算皮尔森相关系数\n"
   ]
  },
  {
   "cell_type": "code",
   "execution_count": null,
   "id": "a7627a8a",
   "metadata": {},
   "outputs": [],
   "source": []
  }
 ],
 "metadata": {
  "kernelspec": {
   "display_name": "Python 3.9.7 ('base')",
   "language": "python",
   "name": "python3"
  },
  "language_info": {
   "codemirror_mode": {
    "name": "ipython",
    "version": 3
   },
   "file_extension": ".py",
   "mimetype": "text/x-python",
   "name": "python",
   "nbconvert_exporter": "python",
   "pygments_lexer": "ipython3",
   "version": "3.9.7 (default, Sep 16 2021, 16:59:28) [MSC v.1916 64 bit (AMD64)]"
  },
  "vscode": {
   "interpreter": {
    "hash": "393afc36cfb9449b98f4f044686da15eb8facededbe8675c5ddfde78742b5c22"
   }
  }
 },
 "nbformat": 4,
 "nbformat_minor": 5
}
