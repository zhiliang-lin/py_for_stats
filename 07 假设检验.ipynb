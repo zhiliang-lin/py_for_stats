{
 "cells": [
  {
   "cell_type": "code",
   "execution_count": 43,
   "id": "7f3a85a8-a3ac-4bac-8919-e876fff71d29",
   "metadata": {},
   "outputs": [],
   "source": [
    "from statsmodels.stats.weightstats import ztest as ztest\n",
    "from scipy import stats\n",
    "import numpy as np\n",
    "from scipy.stats import t\n",
    "import seaborn as sns\n"
   ]
  },
  {
   "cell_type": "markdown",
   "id": "6a368940-0f6d-4ad8-8c71-559b99c6bd72",
   "metadata": {},
   "source": [
    "# 单样本均值的Z检验"
   ]
  },
  {
   "cell_type": "markdown",
   "id": "13dccd8f",
   "metadata": {},
   "source": [
    "$$Z= \\frac{(\\bar{X}- \\mu _{\\bar{x}})}{\\sigma _{\\bar{x}}}= \\frac{(\\bar{X}- \\mu)}{\\frac{\\sigma}{\\sqrt{n}}}$$\n",
    "\n",
    "其中，$\\sigma _{\\bar{x}} = \\frac{\\sigma}{\\sqrt{n}}$为标准误（standard error）"
   ]
  },
  {
   "cell_type": "markdown",
   "id": "7e9f423f-72d8-42a8-9787-24433695328a",
   "metadata": {},
   "source": [
    "## 例题\n",
    "\n",
    "某工厂想确认其生产的辣条平均重量为30g.假如所有辣条的重量服从正态分布，且标准差为0.8.现抽检100包辣条，测得平均值为 29.84g."
   ]
  },
  {
   "cell_type": "code",
   "execution_count": 18,
   "id": "b4d17040-4a6a-4850-9ac4-fcb698938d9c",
   "metadata": {},
   "outputs": [],
   "source": [
    "alpha = 0.05\n",
    "sample_n = 100\n",
    "sample_mean = 29.84\n",
    "test_mean = 30\n",
    "population_std = 0.8"
   ]
  },
  {
   "cell_type": "code",
   "execution_count": 21,
   "id": "30fc10ac-1584-44d2-a28c-e09225f799d6",
   "metadata": {},
   "outputs": [],
   "source": [
    "# 5% 显著性水平下正态分布的临界值（双侧检验）\n",
    "limit_1 = -1.96\n",
    "limit_2 = 1.96"
   ]
  },
  {
   "cell_type": "code",
   "execution_count": 19,
   "id": "903e384f-c28c-4a3a-a0c2-443932e1b8d9",
   "metadata": {},
   "outputs": [
    {
     "data": {
      "text/plain": [
       "-2.0000000000000018"
      ]
     },
     "execution_count": 19,
     "metadata": {},
     "output_type": "execute_result"
    }
   ],
   "source": [
    "# 计算检验统计量Z值\n",
    "z = (sample_mean - test_mean)/(population_std/np.sqrt(sample_n))\n",
    "z"
   ]
  },
  {
   "cell_type": "markdown",
   "id": "b61c23b8-f005-4ee4-9b8e-2f0442c069b0",
   "metadata": {},
   "source": [
    "结论：因为z = -2 < -1.96，所以拒绝零假设"
   ]
  },
  {
   "cell_type": "markdown",
   "id": "f030e955-84cd-4f11-8620-29d3e295b5b5",
   "metadata": {},
   "source": [
    "# 单样本均值的t检验"
   ]
  },
  {
   "cell_type": "markdown",
   "id": "8de8a251",
   "metadata": {},
   "source": [
    "$$t = \\frac { \\bar { X } - \\mu } { \\frac { S } { \\sqrt { n } } }$$\n",
    "\n",
    "其中，$\\frac { S } { \\sqrt { n }} $为估计标准误"
   ]
  },
  {
   "cell_type": "markdown",
   "id": "cf8c9a3b-7a85-4013-bbb3-0cea332de117",
   "metadata": {},
   "source": [
    "# t分布图"
   ]
  },
  {
   "cell_type": "code",
   "execution_count": 55,
   "id": "c5b0d77a-b682-4d62-b483-7ca92cf1459e",
   "metadata": {},
   "outputs": [],
   "source": [
    "# 生成样本量为10000服从t分布的数值\n",
    "x_1 = t.rvs(df=5, size=10000) #自由度为5\n",
    "x_2 = t.rvs(df=13, size=10000) #自由度为13"
   ]
  },
  {
   "cell_type": "code",
   "execution_count": 57,
   "id": "ae978515-6674-4798-a792-962b04fef035",
   "metadata": {},
   "outputs": [
    {
     "data": {
      "text/plain": [
       "<AxesSubplot:ylabel='Density'>"
      ]
     },
     "execution_count": 57,
     "metadata": {},
     "output_type": "execute_result"
    },
    {
     "data": {
      "image/png": "[encoded data removed]",
      "text/plain": [
       "<Figure size 432x288 with 1 Axes>"
      ]
     },
     "metadata": {
      "needs_background": "light"
     },
     "output_type": "display_data"
    }
   ],
   "source": [
    "sns.kdeplot(x_1)#核密度图\n",
    "sns.kdeplot(x_2)"
   ]
  },
  {
   "cell_type": "markdown",
   "id": "8950b3cb-e841-43a2-8722-fa6316e66527",
   "metadata": {},
   "source": [
    "## 例题：\n",
    "据说南方学院的学生在“双十一”当天平均的花费为168元。为检 验该说法，我们进行了随机抽样，获取了25位同学的样本，计算 得出平均值 $\\bar{X}$ = 172.5和标准差 S = 15.4. 在α = 0.05 的水平下检验该假设。"
   ]
  },
  {
   "cell_type": "code",
   "execution_count": 28,
   "id": "e7f75eb3-8b4d-497e-8668-60a40e0401df",
   "metadata": {},
   "outputs": [],
   "source": [
    "consume_sample_mean = 172.5\n",
    "consume_sample_std = 15.4\n",
    "consume_test_mean = 168\n",
    "consume_sample_n =25"
   ]
  },
  {
   "cell_type": "code",
   "execution_count": 34,
   "id": "4d242c65-43b1-42fb-9482-5fb994e005b9",
   "metadata": {},
   "outputs": [
    {
     "data": {
      "text/plain": [
       "1.461038961038961"
      ]
     },
     "execution_count": 34,
     "metadata": {},
     "output_type": "execute_result"
    }
   ],
   "source": [
    "# 计算t值\n",
    "t = (consume_sample_mean - consume_test_mean)/(consume_sample_std / np.sqrt(consume_sample_n))\n",
    "t"
   ]
  },
  {
   "cell_type": "code",
   "execution_count": 32,
   "id": "8aa59ceb-f374-4d2c-898c-d96b78851d61",
   "metadata": {},
   "outputs": [
    {
     "data": {
      "text/plain": [
       "-2.063898561628021"
      ]
     },
     "execution_count": 32,
     "metadata": {},
     "output_type": "execute_result"
    }
   ],
   "source": [
    "# 找出临界值\n",
    "limit = stats.t.ppf(alpha/2, df = consume_sample_n -1)\n",
    "limit"
   ]
  },
  {
   "cell_type": "markdown",
   "id": "6104e78f-5545-4cc9-8135-94b98a62493d",
   "metadata": {},
   "source": [
    "## 习题\n",
    "随机地抽取了某年级36位学生的分数，得知其均值$\\bar{X}$=65，标准差S=12，假定有一主张说总体（该年级）均值只有60分。那么能否根据样本数据推翻该主张？"
   ]
  },
  {
   "cell_type": "code",
   "execution_count": 35,
   "id": "3be34f76-982f-4457-b14a-8b26fba12e19",
   "metadata": {},
   "outputs": [
    {
     "data": {
      "text/plain": [
       "1.461038961038961"
      ]
     },
     "execution_count": 35,
     "metadata": {},
     "output_type": "execute_result"
    }
   ],
   "source": [
    "grade_sample_mean = 172.5\n",
    "grade_sample_std = 15.4\n",
    "grade_test_mean = 168\n",
    "grade_sample_n =25\n",
    "# 计算t值\n",
    "t = (grade_sample_mean - grade_test_mean)/(grade_sample_std / np.sqrt(grade_sample_n))\n",
    "t"
   ]
  },
  {
   "cell_type": "code",
   "execution_count": 36,
   "id": "04b596cc-4f17-49df-9e01-400ee0910eda",
   "metadata": {},
   "outputs": [
    {
     "data": {
      "text/plain": [
       "-2.063898561628021"
      ]
     },
     "execution_count": 36,
     "metadata": {},
     "output_type": "execute_result"
    }
   ],
   "source": [
    "# 找出临界值\n",
    "grade_limit = stats.t.ppf(alpha/2, df = grade_sample_n -1)\n",
    "grade_limit"
   ]
  },
  {
   "cell_type": "markdown",
   "id": "7ed88eba",
   "metadata": {},
   "source": [
    "结论：因为检验统计量t在临界值[-2.06,2.06]中，所以不能拒绝原假设，即不能推翻年级平均分为60分的假定。"
   ]
  },
  {
   "cell_type": "markdown",
   "id": "1b4978a9-e7c2-4636-99b5-67a67e1ecefe",
   "metadata": {},
   "source": [
    "## 习题 \n",
    "从1-100这100个数中随机抽取出10个数字出来作为样本，做单样 本t检验的假设检验，检验μ是否与50显著不同（α=0.05）。"
   ]
  },
  {
   "cell_type": "code",
   "execution_count": 38,
   "id": "26482f6d-5597-483a-988d-baed2ee076ab",
   "metadata": {},
   "outputs": [],
   "source": [
    "mylist = list(range(1, 101))"
   ]
  },
  {
   "cell_type": "code",
   "execution_count": 39,
   "id": "947f6c58-79e9-4cda-b8bc-8fc81f1889fc",
   "metadata": {},
   "outputs": [
    {
     "data": {
      "text/plain": [
       "array([82, 66, 82, 37, 79, 16, 27, 79, 37, 49])"
      ]
     },
     "execution_count": 39,
     "metadata": {},
     "output_type": "execute_result"
    }
   ],
   "source": [
    "mysample = np.random.choice(mylist, size =10, replace = True)\n",
    "mysample"
   ]
  },
  {
   "cell_type": "code",
   "execution_count": 41,
   "id": "602dd1eb-fbe9-44a0-931a-551601cd0253",
   "metadata": {},
   "outputs": [
    {
     "data": {
      "text/plain": [
       "Ttest_1sampResult(statistic=0.6774507830937017, pvalue=0.515155199475317)"
      ]
     },
     "execution_count": 41,
     "metadata": {},
     "output_type": "execute_result"
    }
   ],
   "source": [
    "stats.ttest_1samp(mysample, popmean = 50)"
   ]
  },
  {
   "cell_type": "code",
   "execution_count": null,
   "id": "3d749919-9094-454b-9a48-2dbd08d60bfb",
   "metadata": {},
   "outputs": [],
   "source": []
  }
 ],
 "metadata": {
  "kernelspec": {
   "display_name": "Python 3.9.7 ('base')",
   "language": "python",
   "name": "python3"
  },
  "language_info": {
   "codemirror_mode": {
    "name": "ipython",
    "version": 3
   },
   "file_extension": ".py",
   "mimetype": "text/x-python",
   "name": "python",
   "nbconvert_exporter": "python",
   "pygments_lexer": "ipython3",
   "version": "3.9.7"
  },
  "vscode": {
   "interpreter": {
    "hash": "393afc36cfb9449b98f4f044686da15eb8facededbe8675c5ddfde78742b5c22"
   }
  }
 },
 "nbformat": 4,
 "nbformat_minor": 5
}
