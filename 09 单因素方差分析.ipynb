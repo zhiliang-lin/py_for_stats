{
 "cells": [
  {
   "cell_type": "code",
   "execution_count": 1,
   "id": "0bf15119-7a45-48e1-bcf0-02867fe1011a",
   "metadata": {},
   "outputs": [
    {
     "name": "stderr",
     "output_type": "stream",
     "text": [
      "e:\\installation\\Anaconda\\lib\\site-packages\\outdated\\utils.py:14: OutdatedPackageWarning: The package outdated is out of date. Your version is 0.2.1, the latest is 0.2.2.\n",
      "Set the environment variable OUTDATED_IGNORE=1 to disable these warnings.\n",
      "  return warn(\n"
     ]
    }
   ],
   "source": [
    "# 整理数据的库\n",
    "import pandas as pd\n",
    "import pingouin as pg\n"
   ]
  },
  {
   "cell_type": "markdown",
   "id": "790cee36",
   "metadata": {},
   "source": [
    "# 高尔夫球水平"
   ]
  },
  {
   "cell_type": "markdown",
   "id": "76e066f0",
   "metadata": {},
   "source": [
    "为了了解三家高尔夫球俱乐部的会员高尔夫球的水平是否有差异，随机各从三家俱乐部挑出5位会员，测试他们打高尔夫球的平均距离。\n"
   ]
  },
  {
   "cell_type": "code",
   "execution_count": 15,
   "id": "2d6f7fbe",
   "metadata": {},
   "outputs": [],
   "source": [
    "mylist = [1]*5 + [2]*5 + [3]*5 "
   ]
  },
  {
   "cell_type": "code",
   "execution_count": 3,
   "id": "a1eef486",
   "metadata": {},
   "outputs": [],
   "source": [
    "df = pd.DataFrame(\n",
    "    {\n",
    "        \"club\":mylist,\n",
    "        \"distance\":[254,263,241,237,251,234,218,235,227,216,200,222,197,206,204]\n",
    "    }\n",
    ")\n"
   ]
  },
  {
   "cell_type": "code",
   "execution_count": 16,
   "id": "85f1fce4",
   "metadata": {},
   "outputs": [],
   "source": [
    "df.club = df.club.astype(\"category\")"
   ]
  },
  {
   "cell_type": "code",
   "execution_count": 17,
   "id": "a510ed09",
   "metadata": {},
   "outputs": [
    {
     "name": "stdout",
     "output_type": "stream",
     "text": [
      "   Source      SS  DF      MS          F    p-unc       np2\n",
      "0    club  4716.4   2  2358.2  25.275456  0.00005  0.808156\n",
      "1  Within  1119.6  12    93.3        NaN      NaN       NaN\n"
     ]
    }
   ],
   "source": [
    "aov = pg.anova(data=df, dv='distance', between='club', detailed=True)\n",
    "print(aov)"
   ]
  },
  {
   "cell_type": "code",
   "execution_count": 18,
   "id": "4763b204",
   "metadata": {},
   "outputs": [
    {
     "name": "stdout",
     "output_type": "stream",
     "text": [
      "   A  B  mean(A)  mean(B)  diff       se         T   p-tukey    hedges\n",
      "0  1  2    249.2    226.0  23.2  6.10901  3.797670  0.006634  2.169419\n",
      "1  1  3    249.2    205.8  43.4  6.10901  7.104261  0.000034  4.058310\n",
      "2  2  3    226.0    205.8  20.2  6.10901  3.306592  0.015990  1.888891\n"
     ]
    }
   ],
   "source": [
    "#事后检验\n",
    "posthoc = df.pairwise_tukey(dv = 'distance', between = 'club')\n",
    "print(posthoc)"
   ]
  },
  {
   "cell_type": "markdown",
   "id": "b4412366",
   "metadata": {},
   "source": [
    "# 三个学习小组的成绩"
   ]
  },
  {
   "cell_type": "code",
   "execution_count": 19,
   "id": "e022702e",
   "metadata": {},
   "outputs": [],
   "source": [
    "df_grade = pd.DataFrame(\n",
    "    {\n",
    "        \"group\":mylist,\n",
    "        \"grade\":[82,81,82,82,83,79,80,80,81,80,83,84,83,85,85]\n",
    "    }\n",
    ")"
   ]
  },
  {
   "cell_type": "code",
   "execution_count": 20,
   "id": "3304ee08",
   "metadata": {},
   "outputs": [
    {
     "name": "stdout",
     "output_type": "stream",
     "text": [
      "   Source    SS  DF         MS     F     p-unc       np2\n",
      "0   group  40.0   2  20.000000  30.0  0.000021  0.833333\n",
      "1  Within   8.0  12   0.666667   NaN       NaN       NaN\n"
     ]
    }
   ],
   "source": [
    "aov_grade = pg.anova(data=df_grade, dv='grade', between='group', detailed=True)\n",
    "print(aov_grade)"
   ]
  },
  {
   "cell_type": "code",
   "execution_count": null,
   "id": "3d9f708d",
   "metadata": {},
   "outputs": [],
   "source": []
  }
 ],
 "metadata": {
  "kernelspec": {
   "display_name": "Python 3.9.7 ('base')",
   "language": "python",
   "name": "python3"
  },
  "language_info": {
   "codemirror_mode": {
    "name": "ipython",
    "version": 3
   },
   "file_extension": ".py",
   "mimetype": "text/x-python",
   "name": "python",
   "nbconvert_exporter": "python",
   "pygments_lexer": "ipython3",
   "version": "3.9.7"
  },
  "vscode": {
   "interpreter": {
    "hash": "393afc36cfb9449b98f4f044686da15eb8facededbe8675c5ddfde78742b5c22"
   }
  }
 },
 "nbformat": 4,
 "nbformat_minor": 5
}
