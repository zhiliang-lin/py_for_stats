{
 "cells": [
  {
   "cell_type": "code",
   "execution_count": 8,
   "id": "0bf15119-7a45-48e1-bcf0-02867fe1011a",
   "metadata": {},
   "outputs": [],
   "source": [
    "# 整理数据的库\n",
    "import pandas as pd\n",
    "import pingouin as pg\n",
    "import numpy as np\n",
    "import scipy as sp\n",
    "from scipy import stats\n",
    "import matplotlib.pyplot as plt\n"
   ]
  },
  {
   "cell_type": "markdown",
   "id": "790cee36",
   "metadata": {},
   "source": [
    "# 高尔夫球水平"
   ]
  },
  {
   "cell_type": "markdown",
   "id": "76e066f0",
   "metadata": {},
   "source": [
    "为了了解三家高尔夫球俱乐部的会员高尔夫球的水平是否有差异，随机各从三家俱乐部挑出5位会员，测试他们打高尔夫球的平均距离。\n"
   ]
  },
  {
   "cell_type": "code",
   "execution_count": 9,
   "id": "2d6f7fbe",
   "metadata": {},
   "outputs": [],
   "source": [
    "mylist = [1]*5 + [2]*5 + [3]*5 "
   ]
  },
  {
   "cell_type": "code",
   "execution_count": 3,
   "id": "a1eef486",
   "metadata": {},
   "outputs": [],
   "source": [
    "df = pd.DataFrame(\n",
    "    {\n",
    "        \"club\":mylist,\n",
    "        \"distance\":[254,263,241,237,251,234,218,235,227,216,200,222,197,206,204]\n",
    "    }\n",
    ")"
   ]
  },
  {
   "cell_type": "code",
   "execution_count": 16,
   "id": "85f1fce4",
   "metadata": {},
   "outputs": [],
   "source": [
    "df.club = df.club.astype(\"category\")"
   ]
  },
  {
   "cell_type": "code",
   "execution_count": 17,
   "id": "a510ed09",
   "metadata": {},
   "outputs": [
    {
     "name": "stdout",
     "output_type": "stream",
     "text": [
      "   Source      SS  DF      MS          F    p-unc       np2\n",
      "0    club  4716.4   2  2358.2  25.275456  0.00005  0.808156\n",
      "1  Within  1119.6  12    93.3        NaN      NaN       NaN\n"
     ]
    }
   ],
   "source": [
    "aov = pg.anova(data=df, dv='distance', between='club', detailed=True)# anova ：Analysis of variances\n",
    "print(aov)"
   ]
  },
  {
   "cell_type": "code",
   "execution_count": 6,
   "id": "a49f54b4",
   "metadata": {},
   "outputs": [
    {
     "data": {
      "text/plain": [
       "<matplotlib.collections.PolyCollection at 0x23fab52c460>"
      ]
     },
     "execution_count": 6,
     "metadata": {},
     "output_type": "execute_result"
    },
    {
     "data": {
      "image/png": "[encoded data removed]",
      "text/plain": [
       "<Figure size 432x288 with 1 Axes>"
      ]
     },
     "metadata": {
      "needs_background": "light"
     },
     "output_type": "display_data"
    }
   ],
   "source": [
    "# 示意图\n",
    "x = np.linspace(0,30,100)\n",
    "y = stats.f.pdf(x,dfn =2 , dfd = 12)\n",
    "limit = stats.f.ppf(q=0.95, dfn =2, dfd = 12) #临界值\n",
    "plt.plot(x, y)\n",
    "plt.axvline(x = 25.28 ,color = \"g\") #检验统计量\n",
    "plt.fill_between(x,0,y, where= x > limit,color = \"red\") #拒绝域"
   ]
  },
  {
   "cell_type": "code",
   "execution_count": 18,
   "id": "4763b204",
   "metadata": {},
   "outputs": [
    {
     "name": "stdout",
     "output_type": "stream",
     "text": [
      "   A  B  mean(A)  mean(B)  diff       se         T   p-tukey    hedges\n",
      "0  1  2    249.2    226.0  23.2  6.10901  3.797670  0.006634  2.169419\n",
      "1  1  3    249.2    205.8  43.4  6.10901  7.104261  0.000034  4.058310\n",
      "2  2  3    226.0    205.8  20.2  6.10901  3.306592  0.015990  1.888891\n"
     ]
    }
   ],
   "source": [
    "#事后检验\n",
    "posthoc = df.pairwise_tukey(dv = 'distance', between = 'club')\n",
    "print(posthoc)"
   ]
  },
  {
   "cell_type": "markdown",
   "id": "b4412366",
   "metadata": {},
   "source": [
    "# 三个学习小组的成绩"
   ]
  },
  {
   "cell_type": "code",
   "execution_count": 13,
   "id": "e022702e",
   "metadata": {},
   "outputs": [],
   "source": [
    "df_grade = pd.DataFrame(\n",
    "    {\n",
    "        \"group\":mylist,\n",
    "        \"grade\":[82,81,82,82,83,79,80,80,81,80,83,84,83,85,85]\n",
    "    }\n",
    ")\n",
    "df_grade.group = df_grade.group.astype(\"category\")"
   ]
  },
  {
   "cell_type": "code",
   "execution_count": 20,
   "id": "3304ee08",
   "metadata": {},
   "outputs": [
    {
     "name": "stderr",
     "output_type": "stream",
     "text": [
      "e:\\installation\\Anaconda\\lib\\site-packages\\pingouin\\parametric.py:992: FutureWarning: Not prepending group keys to the result index of transform-like apply. In the future, the group keys will be included in the index, regardless of whether the applied function returns a like-indexed object.\n",
      "To preserve the previous behavior, use\n",
      "\n",
      "\t>>> .groupby(..., group_keys=False)\n",
      "\n",
      "To adopt the future behavior and silence this warning, use \n",
      "\n",
      "\t>>> .groupby(..., group_keys=True)\n",
      "  sserror = grp.apply(lambda x: (x - x.mean()) ** 2).sum()\n"
     ]
    },
    {
     "data": {
      "text/html": [
       "<div>\n",
       "<style scoped>\n",
       "    .dataframe tbody tr th:only-of-type {\n",
       "        vertical-align: middle;\n",
       "    }\n",
       "\n",
       "    .dataframe tbody tr th {\n",
       "        vertical-align: top;\n",
       "    }\n",
       "\n",
       "    .dataframe thead th {\n",
       "        text-align: right;\n",
       "    }\n",
       "</style>\n",
       "<table border=\"1\" class=\"dataframe\">\n",
       "  <thead>\n",
       "    <tr style=\"text-align: right;\">\n",
       "      <th></th>\n",
       "      <th>Source</th>\n",
       "      <th>SS</th>\n",
       "      <th>DF</th>\n",
       "      <th>MS</th>\n",
       "      <th>F</th>\n",
       "      <th>p-unc</th>\n",
       "      <th>np2</th>\n",
       "    </tr>\n",
       "  </thead>\n",
       "  <tbody>\n",
       "    <tr>\n",
       "      <th>0</th>\n",
       "      <td>group</td>\n",
       "      <td>40.0</td>\n",
       "      <td>2</td>\n",
       "      <td>20.000000</td>\n",
       "      <td>30.0</td>\n",
       "      <td>0.000021</td>\n",
       "      <td>0.833333</td>\n",
       "    </tr>\n",
       "    <tr>\n",
       "      <th>1</th>\n",
       "      <td>Within</td>\n",
       "      <td>8.0</td>\n",
       "      <td>12</td>\n",
       "      <td>0.666667</td>\n",
       "      <td>NaN</td>\n",
       "      <td>NaN</td>\n",
       "      <td>NaN</td>\n",
       "    </tr>\n",
       "  </tbody>\n",
       "</table>\n",
       "</div>"
      ],
      "text/plain": [
       "   Source    SS  DF         MS     F     p-unc       np2\n",
       "0   group  40.0   2  20.000000  30.0  0.000021  0.833333\n",
       "1  Within   8.0  12   0.666667   NaN       NaN       NaN"
      ]
     },
     "execution_count": 20,
     "metadata": {},
     "output_type": "execute_result"
    }
   ],
   "source": [
    "aov_grade = pg.anova(data=df_grade, dv='grade', between='group', detailed=True)\n",
    "aov_grade"
   ]
  },
  {
   "cell_type": "code",
   "execution_count": 21,
   "id": "37e26e10",
   "metadata": {},
   "outputs": [
    {
     "data": {
      "text/plain": [
       "<matplotlib.collections.PolyCollection at 0x23fab6e4250>"
      ]
     },
     "execution_count": 21,
     "metadata": {},
     "output_type": "execute_result"
    },
    {
     "data": {
      "image/png": "[encoded data removed]",
      "text/plain": [
       "<Figure size 432x288 with 1 Axes>"
      ]
     },
     "metadata": {
      "needs_background": "light"
     },
     "output_type": "display_data"
    }
   ],
   "source": [
    "#示意图\n",
    "x = np.linspace(0,35,100)\n",
    "y = stats.f.pdf(x,dfn =2 , dfd = 12)\n",
    "limit = stats.f.ppf(q=0.95, dfn =2, dfd = 12) #临界值\n",
    "plt.plot(x, y)\n",
    "plt.axvline(x = 30 ,color = \"g\") #检验统计量\n",
    "plt.fill_between(x,0,y, where= x > limit,color = \"red\") #拒绝域"
   ]
  },
  {
   "cell_type": "code",
   "execution_count": 19,
   "id": "9606bc43",
   "metadata": {},
   "outputs": [
    {
     "name": "stderr",
     "output_type": "stream",
     "text": [
      "e:\\installation\\Anaconda\\lib\\site-packages\\pingouin\\parametric.py:992: FutureWarning: Not prepending group keys to the result index of transform-like apply. In the future, the group keys will be included in the index, regardless of whether the applied function returns a like-indexed object.\n",
      "To preserve the previous behavior, use\n",
      "\n",
      "\t>>> .groupby(..., group_keys=False)\n",
      "\n",
      "To adopt the future behavior and silence this warning, use \n",
      "\n",
      "\t>>> .groupby(..., group_keys=True)\n",
      "  sserror = grp.apply(lambda x: (x - x.mean()) ** 2).sum()\n"
     ]
    },
    {
     "data": {
      "text/html": [
       "<div>\n",
       "<style scoped>\n",
       "    .dataframe tbody tr th:only-of-type {\n",
       "        vertical-align: middle;\n",
       "    }\n",
       "\n",
       "    .dataframe tbody tr th {\n",
       "        vertical-align: top;\n",
       "    }\n",
       "\n",
       "    .dataframe thead th {\n",
       "        text-align: right;\n",
       "    }\n",
       "</style>\n",
       "<table border=\"1\" class=\"dataframe\">\n",
       "  <thead>\n",
       "    <tr style=\"text-align: right;\">\n",
       "      <th></th>\n",
       "      <th>A</th>\n",
       "      <th>B</th>\n",
       "      <th>mean(A)</th>\n",
       "      <th>mean(B)</th>\n",
       "      <th>diff</th>\n",
       "      <th>se</th>\n",
       "      <th>T</th>\n",
       "      <th>p-tukey</th>\n",
       "      <th>hedges</th>\n",
       "    </tr>\n",
       "  </thead>\n",
       "  <tbody>\n",
       "    <tr>\n",
       "      <th>0</th>\n",
       "      <td>1</td>\n",
       "      <td>2</td>\n",
       "      <td>82.0</td>\n",
       "      <td>80.0</td>\n",
       "      <td>2.0</td>\n",
       "      <td>0.516398</td>\n",
       "      <td>3.872983</td>\n",
       "      <td>0.005803</td>\n",
       "      <td>2.212442</td>\n",
       "    </tr>\n",
       "    <tr>\n",
       "      <th>1</th>\n",
       "      <td>1</td>\n",
       "      <td>3</td>\n",
       "      <td>82.0</td>\n",
       "      <td>84.0</td>\n",
       "      <td>-2.0</td>\n",
       "      <td>0.516398</td>\n",
       "      <td>-3.872983</td>\n",
       "      <td>0.005803</td>\n",
       "      <td>-2.212442</td>\n",
       "    </tr>\n",
       "    <tr>\n",
       "      <th>2</th>\n",
       "      <td>2</td>\n",
       "      <td>3</td>\n",
       "      <td>80.0</td>\n",
       "      <td>84.0</td>\n",
       "      <td>-4.0</td>\n",
       "      <td>0.516398</td>\n",
       "      <td>-7.745967</td>\n",
       "      <td>0.000014</td>\n",
       "      <td>-4.424885</td>\n",
       "    </tr>\n",
       "  </tbody>\n",
       "</table>\n",
       "</div>"
      ],
      "text/plain": [
       "   A  B  mean(A)  mean(B)  diff        se         T   p-tukey    hedges\n",
       "0  1  2     82.0     80.0   2.0  0.516398  3.872983  0.005803  2.212442\n",
       "1  1  3     82.0     84.0  -2.0  0.516398 -3.872983  0.005803 -2.212442\n",
       "2  2  3     80.0     84.0  -4.0  0.516398 -7.745967  0.000014 -4.424885"
      ]
     },
     "execution_count": 19,
     "metadata": {},
     "output_type": "execute_result"
    }
   ],
   "source": [
    "#事后检验\n",
    "posthoc_grade = df_grade.pairwise_tukey(dv = 'grade', between = 'group')\n",
    "posthoc_grade"
   ]
  },
  {
   "cell_type": "code",
   "execution_count": null,
   "id": "3d9f708d",
   "metadata": {},
   "outputs": [],
   "source": []
  }
 ],
 "metadata": {
  "kernelspec": {
   "display_name": "Python 3.9.7 ('base')",
   "language": "python",
   "name": "python3"
  },
  "language_info": {
   "codemirror_mode": {
    "name": "ipython",
    "version": 3
   },
   "file_extension": ".py",
   "mimetype": "text/x-python",
   "name": "python",
   "nbconvert_exporter": "python",
   "pygments_lexer": "ipython3",
   "version": "3.9.7"
  },
  "vscode": {
   "interpreter": {
    "hash": "393afc36cfb9449b98f4f044686da15eb8facededbe8675c5ddfde78742b5c22"
   }
  }
 },
 "nbformat": 4,
 "nbformat_minor": 5
}
