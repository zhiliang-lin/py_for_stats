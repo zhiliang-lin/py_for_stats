{
 "cells": [
  {
   "cell_type": "code",
   "execution_count": 4,
   "id": "0bf15119-7a45-48e1-bcf0-02867fe1011a",
   "metadata": {},
   "outputs": [],
   "source": [
    "import pandas as pd"
   ]
  },
  {
   "cell_type": "markdown",
   "id": "790cee36",
   "metadata": {},
   "source": [
    "# 高尔夫球水平"
   ]
  },
  {
   "cell_type": "markdown",
   "id": "76e066f0",
   "metadata": {},
   "source": [
    "为了了解三家高尔夫球俱乐部的会员高尔夫球的水平是否有差异，随机各从三家俱乐部挑出5位会员，测试他们打高尔夫球的平均距离。\n"
   ]
  },
  {
   "cell_type": "code",
   "execution_count": 3,
   "id": "2d6f7fbe",
   "metadata": {},
   "outputs": [
    {
     "data": {
      "text/plain": [
       "[1, 1, 1, 1, 1, 2, 2, 2, 2, 2, 3, 3, 3, 3, 3]"
      ]
     },
     "execution_count": 3,
     "metadata": {},
     "output_type": "execute_result"
    }
   ],
   "source": [
    "mylist = [1]*5 + [2]*5 + [3]*5 \n",
    "mylist"
   ]
  },
  {
   "cell_type": "code",
   "execution_count": 5,
   "id": "a1eef486",
   "metadata": {},
   "outputs": [],
   "source": [
    "df = pd.DataFrame(\n",
    "    {\n",
    "        \"club\":mylist,\n",
    "        \"distance\":[254,263,241,237,251,234,218,235,227,216,200,222,197,206,204]\n",
    "    }\n",
    ")"
   ]
  },
  {
   "cell_type": "code",
   "execution_count": null,
   "id": "2c1beea6",
   "metadata": {},
   "outputs": [],
   "source": []
  },
  {
   "cell_type": "code",
   "execution_count": null,
   "id": "d9e0e6f2",
   "metadata": {},
   "outputs": [],
   "source": []
  },
  {
   "cell_type": "markdown",
   "id": "b4412366",
   "metadata": {},
   "source": [
    "# 三个学习小组的成绩"
   ]
  },
  {
   "cell_type": "code",
   "execution_count": null,
   "id": "e022702e",
   "metadata": {},
   "outputs": [],
   "source": [
    "df_grade = pd.DataFrame(\n",
    "    {\n",
    "        \"club\":mylist,\n",
    "        \"grade\":[82,81,82,82,83,79,80,80,81,80,83,84,83,85,85]\n",
    "    }\n",
    ")"
   ]
  }
 ],
 "metadata": {
  "kernelspec": {
   "display_name": "Python 3.9.7 ('base')",
   "language": "python",
   "name": "python3"
  },
  "language_info": {
   "codemirror_mode": {
    "name": "ipython",
    "version": 3
   },
   "file_extension": ".py",
   "mimetype": "text/x-python",
   "name": "python",
   "nbconvert_exporter": "python",
   "pygments_lexer": "ipython3",
   "version": "3.9.7"
  },
  "vscode": {
   "interpreter": {
    "hash": "393afc36cfb9449b98f4f044686da15eb8facededbe8675c5ddfde78742b5c22"
   }
  }
 },
 "nbformat": 4,
 "nbformat_minor": 5
}
