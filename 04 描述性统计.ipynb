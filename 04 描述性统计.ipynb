{
 "cells": [
  {
   "cell_type": "code",
   "execution_count": null,
   "id": "1fa63bc5",
   "metadata": {},
   "outputs": [],
   "source": [
    "import numpy as np\n",
    "import pandas as pd\n",
    "import seaborn as sns\n"
   ]
  },
  {
   "cell_type": "markdown",
   "id": "790cee36",
   "metadata": {},
   "source": [
    "# 🐒数值型变量：集中程度"
   ]
  },
  {
   "cell_type": "markdown",
   "id": "76e066f0",
   "metadata": {},
   "source": [
    "## 平均值"
   ]
  },
  {
   "cell_type": "markdown",
   "id": "a057fe9c",
   "metadata": {},
   "source": [
    "## 中位数"
   ]
  },
  {
   "cell_type": "code",
   "execution_count": 3,
   "id": "2d6f7fbe",
   "metadata": {},
   "outputs": [
    {
     "data": {
      "text/plain": [
       "[1, 1, 1, 1, 1, 2, 2, 2, 2, 2, 3, 3, 3, 3, 3]"
      ]
     },
     "execution_count": 3,
     "metadata": {},
     "output_type": "execute_result"
    }
   ],
   "source": [
    "mylist = [1]*5 + [2]*5 + [3]*5 \n",
    "mylist"
   ]
  },
  {
   "cell_type": "code",
   "execution_count": 5,
   "id": "a1eef486",
   "metadata": {},
   "outputs": [],
   "source": [
    "df = pd.DataFrame(\n",
    "    {\n",
    "        \"club\":mylist,\n",
    "        \"distance\":[254,263,241,237,251,234,218,235,227,216,200,222,197,206,204]\n",
    "    }\n",
    ")"
   ]
  },
  {
   "cell_type": "code",
   "execution_count": null,
   "id": "2c1beea6",
   "metadata": {},
   "outputs": [],
   "source": []
  },
  {
   "cell_type": "code",
   "execution_count": null,
   "id": "d9e0e6f2",
   "metadata": {},
   "outputs": [],
   "source": []
  },
  {
   "cell_type": "markdown",
   "id": "b4412366",
   "metadata": {},
   "source": [
    "# 数值型变量：离散程度"
   ]
  },
  {
   "cell_type": "code",
   "execution_count": 1,
   "id": "5a2cb139",
   "metadata": {},
   "outputs": [],
   "source": [
    "sample_data = [10,12,14,15,17,18,18,24]"
   ]
  },
  {
   "cell_type": "markdown",
   "id": "d848b2f8",
   "metadata": {},
   "source": [
    "## 方差"
   ]
  },
  {
   "cell_type": "markdown",
   "id": "158739bc",
   "metadata": {},
   "source": [
    "## 标准差"
   ]
  },
  {
   "cell_type": "markdown",
   "id": "9477fca9",
   "metadata": {},
   "source": [
    "# 🦙数据可视化"
   ]
  },
  {
   "cell_type": "markdown",
   "id": "d32250db",
   "metadata": {},
   "source": [
    "## 类别型变量：饼状图"
   ]
  },
  {
   "cell_type": "markdown",
   "id": "f9992d5a",
   "metadata": {},
   "source": [
    "## 类别型变量：条形图"
   ]
  },
  {
   "cell_type": "markdown",
   "id": "94cafa42",
   "metadata": {},
   "source": [
    "## 数值型变量:直方图"
   ]
  },
  {
   "cell_type": "markdown",
   "id": "8412bf51",
   "metadata": {},
   "source": []
  }
 ],
 "metadata": {
  "kernelspec": {
   "display_name": "Python 3.9.7 ('base')",
   "language": "python",
   "name": "python3"
  },
  "language_info": {
   "codemirror_mode": {
    "name": "ipython",
    "version": 3
   },
   "file_extension": ".py",
   "mimetype": "text/x-python",
   "name": "python",
   "nbconvert_exporter": "python",
   "pygments_lexer": "ipython3",
   "version": "3.9.7"
  },
  "vscode": {
   "interpreter": {
    "hash": "393afc36cfb9449b98f4f044686da15eb8facededbe8675c5ddfde78742b5c22"
   }
  }
 },
 "nbformat": 4,
 "nbformat_minor": 5
}
